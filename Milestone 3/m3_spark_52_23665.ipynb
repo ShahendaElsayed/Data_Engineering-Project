{
 "cells": [
  {
   "cell_type": "code",
   "execution_count": 56,
   "metadata": {},
   "outputs": [],
   "source": [
    "from pyspark.sql import SparkSession\n",
    "\n",
    "spark = SparkSession.builder.appName(\"milestone3\").getOrCreate()\n",
    "sc = spark.sparkContext"
   ]
  },
  {
   "cell_type": "code",
   "execution_count": 57,
   "metadata": {},
   "outputs": [],
   "source": [
    "spark = SparkSession.builder \\\n",
    "    .config(\"spark.hadoop.fs.local.impl\", \"org.apache.hadoop.fs.LocalFileSystem\") \\\n",
    "    .getOrCreate()\n"
   ]
  },
  {
   "cell_type": "markdown",
   "metadata": {},
   "source": [
    "# `Part 1: Loading the dataset`"
   ]
  },
  {
   "cell_type": "code",
   "execution_count": 58,
   "metadata": {},
   "outputs": [],
   "source": [
    "df= spark.read.parquet('fintech_data_21_52_23665.parquet')"
   ]
  },
  {
   "cell_type": "markdown",
   "metadata": {},
   "source": [
    "`initializing the lookup table  and a track changes functions that adds the new encodings to it`"
   ]
  },
  {
   "cell_type": "code",
   "execution_count": 59,
   "metadata": {},
   "outputs": [],
   "source": [
    "from pyspark.sql.types import StructType, StructField, StringType\n",
    "\n",
    "# Create an empty tracking DataFrame\n",
    "schema = StructType([\n",
    "    StructField(\"Feature\", StringType(), True),\n",
    "    StructField(\"Original Value\", StringType(), True),\n",
    "    StructField(\"Imputed/Encoded Value\", StringType(), True)\n",
    "])\n",
    "\n",
    "lookup_table = spark.createDataFrame([], schema)\n",
    "\n",
    "# Function to track changes\n",
    "def track_changes(feature, original_value, imputed_value):\n",
    "    global lookup_table\n",
    "    # Create a new row as a DataFrame\n",
    "    new_row = spark.createDataFrame(\n",
    "        [(feature, original_value, imputed_value)],\n",
    "        schema\n",
    "    )\n",
    "    # Union the new row with the existing lookup_table\n",
    "    lookup_table = lookup_table.union(new_row)"
   ]
  },
  {
   "cell_type": "code",
   "execution_count": 60,
   "metadata": {},
   "outputs": [
    {
     "name": "stdout",
     "output_type": "stream",
     "text": [
      "+--------------------+--------------------+----------+--------------+----------+----------------+-------------------+--------+----------+-----------+-----------+-------+---------------+-----------+-----+-------------+----------+--------+-----+-----------------+----------+----------+------------------+--------------------+\n",
      "|         Customer Id|           Emp Title|Emp Length|Home Ownership|Annual Inc|Annual Inc Joint|Verification Status|Zip Code|Addr State|Avg Cur Bal|Tot Cur Bal|Loan Id|    Loan Status|Loan Amount|State|Funded Amount|      Term|Int Rate|Grade|       Issue Date|Pymnt Plan|      Type|           Purpose|         Description|\n",
      "+--------------------+--------------------+----------+--------------+----------+----------------+-------------------+--------+----------+-----------+-----------+-------+---------------+-----------+-----+-------------+----------+--------+-----+-----------------+----------+----------+------------------+--------------------+\n",
      "|Yid9bVx4OGNceGQxX...|     Tech. Trainer 2| 10+ years|      MORTGAGE|   51000.0|            NULL|       Not Verified|   275xx|        NC|     9245.0|    55470.0| 176251|     Fully Paid|    18000.0|   NC|      18000.0| 36 months|  0.0532|    2|   15 August 2015|     false|Individual|       credit_card|Credit card refin...|\n",
      "|YidceGMyXHhkYjRce...|            lab ast.| 10+ years|      MORTGAGE|   55000.0|            NULL|       Not Verified|   958xx|        CA|    34367.0|   240569.0| 151070|     Fully Paid|    15000.0|   CA|      15000.0| 36 months|  0.1199|    7|  14 January 2014|     false|INDIVIDUAL|debt_consolidation|  Debt consolidation|\n",
      "|YidceGQ3XHhmNVx4Y...|        AW2 Advocate|  < 1 year|          RENT|   69900.0|            NULL|           Verified|   967xx|        HI|     7786.0|   116784.0|  65142|        Current|     8000.0|   HI|       8000.0| 36 months|  0.1075|    9| 16 February 2016|     false|INDIVIDUAL|debt_consolidation|                NULL|\n",
      "|YidceGY2XHhlNjtce...|                NULL|      NULL|      MORTGAGE|   25000.0|        129000.0|           Verified|   335xx|        FL|    10832.0|   184142.0| 246392|    Charged Off|    30000.0|   FL|      30000.0| 60 months|     0.2|   20|    19 April 2019|     false| Joint App|       credit_card|Credit card refin...|\n",
      "|YidQXHhmZVx4YzJ3X...|                NULL|  < 1 year|          RENT|  100000.0|            NULL|       Not Verified|   337xx|        FL|     6471.0|    32357.0| 241088|        Current|    30000.0|   FL|      30000.0| 36 months|  0.0881|    4|   19 August 2019|     false|Individual|       credit_card|Credit card refin...|\n",
      "|Yic4an1cXFx4YWNce...|PUBLIC SERVICE TR...|   2 years|          RENT|   35000.0|            NULL|    Source Verified|   941xx|        CA|      269.0|     2688.0|  74165|    Charged Off|     8975.0|   CA|       8975.0| 36 months|  0.1919|   24|  15 October 2015|     false|Individual|debt_consolidation|  Debt consolidation|\n",
      "|YiJceGQzZC5tdFx4Y...|Compliance and Ri...|   3 years|           OWN|  108000.0|            NULL|    Source Verified|   531xx|        WI|      658.0|    11189.0|  84466|     Fully Paid|    10000.0|   WI|      10000.0| 36 months|  0.0699|    5|  15 January 2015|     false|Individual|debt_consolidation|  Debt consolidation|\n",
      "|YidceDhmXHhkMihce...|               sales|   5 years|          RENT|   83000.0|            NULL|    Source Verified|   662xx|        KS|     3891.0|    38906.0| 164386|        Current|    16000.0|   KS|      16000.0| 36 months|  0.1148|    8|  16 January 2016|     false|INDIVIDUAL|debt_consolidation|  Debt consolidation|\n",
      "|YidceDgzYFx4MGVlX...|Senior Design Eng...| 10+ years|           OWN|  105000.0|            NULL|       Not Verified|   040xx|        ME|    29986.0|   359833.0| 166175|        Current|    16000.0|   ME|      16000.0| 60 months|  0.0739|    2|      16 May 2016|     false|INDIVIDUAL|debt_consolidation|  Debt consolidation|\n",
      "|YidceGIxXHgxZFx4Z...|    Business Manager|   3 years|      MORTGAGE|   96000.0|            NULL|    Source Verified|   530xx|        WI|    19495.0|   272929.0| 158687|        Current|    15000.0|   WI|      15000.0| 60 months|     0.2|   20|     19 June 2019|     false|Individual|debt_consolidation|  Debt consolidation|\n",
      "|YidceGU2elx4ZjZce...|        Photographer|  < 1 year|          RENT|   30000.0|        120000.0|           Verified|   928xx|        CA|     1290.0|     7742.0| 155950|        Current|    15000.0|   CA|      15000.0| 60 months|    NULL|    9|   18 August 2018|     false| Joint App|debt_consolidation|  Debt consolidation|\n",
      "|Yic+XHg5Nlx4ZjFiN...|               Nurse|    1 year|           OWN|   72000.0|            NULL|       Not Verified|   600xx|        IL|     8333.0|    66667.0| 148138|        Current|    15000.0|   IL|      15000.0| 36 months|  0.0819|    3|    19 March 2019|     false|Individual|       credit_card|Credit card refin...|\n",
      "|YidceGJiOVx4YzNce...|  Accounting Manager|   3 years|          RENT|  120000.0|            NULL|    Source Verified|   941xx|        CA|     4803.0|    38421.0| 204346|        Current|    21000.0|   CA|      21000.0| 36 months|  0.0702|    2| 19 February 2019|     false|Individual|debt_consolidation|  Debt consolidation|\n",
      "|YidtXHg5Zlx4MTBLb...|                NULL|  < 1 year|          RENT|  110000.0|            NULL|    Source Verified|   951xx|        CA|     3983.0|    27884.0| 201389|        Current|    20000.0|   CA|      20000.0| 60 months|     0.2|   17|      19 May 2019|     false|Individual|debt_consolidation|  Debt consolidation|\n",
      "|YidceDgyaFx4OTJXb...|      Cyber Security| 10+ years|      MORTGAGE|  140000.0|            NULL|       Not Verified|   430xx|        OH|    27521.0|   385298.0| 265826|        Current|    40000.0|   OH|      40000.0| 36 months|  0.0784|    1|18 September 2018|     false|Individual|    small_business|            Business|\n",
      "|Yid3XHg5N1x4OWRce...|Paint Department ...|   2 years|      MORTGAGE|  120000.0|        180000.0|           Verified|   362xx|        AL|    34090.0|   374993.0| 269989|        Current|    40000.0|   AL|      40000.0| 60 months|  0.1691|   11|  19 January 2019|     false| Joint App|debt_consolidation|  Debt consolidation|\n",
      "|YidceGRjXHgxM1x4O...|Contract Manageme...| 10+ years|          RENT|   65000.0|            NULL|    Source Verified|   121xx|        NY|     3510.0|    49144.0| 228741|     Fully Paid|    25000.0|   NY|      25000.0| 60 months|  0.1659|   19|    14 April 2014|     false|INDIVIDUAL|       credit_card|Credit card refin...|\n",
      "|YidceGFjWml0XHhkM...|    Program Manager | 10+ years|          RENT|   65550.0|            NULL|           Verified|   336xx|        FL|     1410.0|    22554.0| 241985|In Grace Period|    30000.0|   FL|      30000.0| 36 months|  0.1274|   14| 16 December 2016|     false|INDIVIDUAL|debt_consolidation|  Debt consolidation|\n",
      "|YidceGU5WWJceGRhX...|   Bishop Kearney HS|   7 years|      MORTGAGE|   50000.0|            NULL|           Verified|   144xx|        NY|    14815.0|    44445.0| 210810|     Fully Paid|    22250.0|   NY|      22250.0| 36 months|  0.1212|    7| 13 February 2013|     false|INDIVIDUAL|       credit_card|Credit card refin...|\n",
      "|YidceGZlXHhiNVx4Y...|    Big Bear Grizzly| 10+ years|          RENT|   33600.0|            NULL|           Verified|   923xx|        CA|     1067.0|     6402.0|  47759|     Fully Paid|     6250.0|   CA|       6250.0| 36 months|  0.1531|   15|      13 May 2013|     false|INDIVIDUAL|debt_consolidation|         Consolidate|\n",
      "+--------------------+--------------------+----------+--------------+----------+----------------+-------------------+--------+----------+-----------+-----------+-------+---------------+-----------+-----+-------------+----------+--------+-----+-----------------+----------+----------+------------------+--------------------+\n",
      "only showing top 20 rows\n",
      "\n"
     ]
    }
   ],
   "source": [
    "df.show(20)"
   ]
  },
  {
   "cell_type": "markdown",
   "metadata": {},
   "source": [
    "## Partitioning"
   ]
  },
  {
   "cell_type": "code",
   "execution_count": 61,
   "metadata": {},
   "outputs": [
    {
     "name": "stdout",
     "output_type": "stream",
     "text": [
      "Number of CPU cores: 4\n"
     ]
    }
   ],
   "source": [
    "import os\n",
    "\n",
    "num_cores = os.cpu_count()\n",
    "print(f\"Number of CPU cores: {num_cores}\")"
   ]
  },
  {
   "cell_type": "code",
   "execution_count": 62,
   "metadata": {},
   "outputs": [
    {
     "data": {
      "text/plain": [
       "1"
      ]
     },
     "execution_count": 62,
     "metadata": {},
     "output_type": "execute_result"
    }
   ],
   "source": [
    "df.rdd.getNumPartitions()"
   ]
  },
  {
   "cell_type": "code",
   "execution_count": 63,
   "metadata": {},
   "outputs": [
    {
     "name": "stdout",
     "output_type": "stream",
     "text": [
      "Logical cores: 4\n",
      "Physical cores: 2\n"
     ]
    }
   ],
   "source": [
    "import psutil\n",
    "\n",
    "logical_cores = psutil.cpu_count(logical=True)  # Logical cores\n",
    "physical_cores = psutil.cpu_count(logical=False)  # Physical cores\n",
    "\n",
    "print(f\"Logical cores: {logical_cores}\")\n",
    "print(f\"Physical cores: {physical_cores}\")\n"
   ]
  },
  {
   "cell_type": "code",
   "execution_count": 64,
   "metadata": {},
   "outputs": [
    {
     "data": {
      "text/plain": [
       "4"
      ]
     },
     "execution_count": 64,
     "metadata": {},
     "output_type": "execute_result"
    }
   ],
   "source": [
    "df = df.repartition(logical_cores)\n",
    "df.rdd.getNumPartitions()"
   ]
  },
  {
   "cell_type": "code",
   "execution_count": 65,
   "metadata": {},
   "outputs": [
    {
     "name": "stdout",
     "output_type": "stream",
     "text": [
      "+--------------------+--------------------+----------+--------------+----------+----------------+-------------------+--------+----------+-----------+-----------+-------+-----------+-----------+-----+-------------+----------+--------+-----+-----------------+----------+----------+------------------+--------------------+\n",
      "|         Customer Id|           Emp Title|Emp Length|Home Ownership|Annual Inc|Annual Inc Joint|Verification Status|Zip Code|Addr State|Avg Cur Bal|Tot Cur Bal|Loan Id|Loan Status|Loan Amount|State|Funded Amount|      Term|Int Rate|Grade|       Issue Date|Pymnt Plan|      Type|           Purpose|         Description|\n",
      "+--------------------+--------------------+----------+--------------+----------+----------------+-------------------+--------+----------+-----------+-----------+-------+-----------+-----------+-----+-------------+----------+--------+-----+-----------------+----------+----------+------------------+--------------------+\n",
      "|YidceGE2XHhmYlx4O...|                NULL|      NULL|          RENT|   12900.0|            NULL|           Verified|   481xx|        MI|     1275.0|     6375.0|   4185|    Current|     2000.0|   MI|       2000.0| 36 months|  0.1049|   10|    17 April 2017|     false|Individual|       credit_card|Credit card refin...|\n",
      "|YidceGY4eH1zXHg4N...|                NULL|  < 1 year|      MORTGAGE|   46000.0|        126000.0|    Source Verified|   988xx|        WA|     5022.0|    55246.0| 170045|    Current|    16300.0|   WA|      16300.0| 60 months|  0.1308|   10| 19 November 2019|     false| Joint App|debt_consolidation|  Debt consolidation|\n",
      "|YiJceGFlXHhmZFx4O...|Social Studies Te...|   9 years|          RENT|   62000.0|            NULL|       Not Verified|   151xx|        PA|     3205.0|    35260.0|  25613|    Current|     5000.0|   PA|       5000.0| 36 months|  0.0649|    5|      16 May 2016|     false|INDIVIDUAL|             other|               Other|\n",
      "|YidceDgxXHhhN1dce...|          Instructor|   3 years|          RENT|   90000.0|            NULL|       Not Verified|   342xx|        FL|     3943.0|    67036.0|  85728|    Current|    10000.0|   FL|      10000.0| 36 months|  0.0756|    4|      19 May 2019|     false|Individual|       credit_card|Credit card refin...|\n",
      "|YidyXHhlY0Aoakpce...|Prior Authorizati...|  < 1 year|      MORTGAGE|   76000.0|            NULL|    Source Verified|   330xx|        FL|    20336.0|   264371.0| 190035|    Current|    20000.0|   FL|      20000.0| 36 months|  0.0799|    3|     16 July 2016|     false|INDIVIDUAL|debt_consolidation|  Debt consolidation|\n",
      "|YidlXHhmZFx4MGM3X...|     Account manager| 10+ years|           OWN|   73000.0|            NULL|       Not Verified|   445xx|        OH|     1843.0|    20275.0|  63098| Fully Paid|     8000.0|   OH|       8000.0| 36 months|  0.0784|    5|  18 October 2018|     false|Individual|debt_consolidation|  Debt consolidation|\n",
      "|YidDXHhhM1x4MTVce...|   Marketing Manager| 10+ years|      MORTGAGE|   67000.0|            NULL|           Verified|   970xx|        OR|    13791.0|   179291.0| 126558| Fully Paid|    12000.0|   OR|      12000.0| 60 months|  0.1465|   12|    15 April 2015|     false|Individual|debt_consolidation|  Debt consolidation|\n",
      "|YidVXHgwNyNcdFx4Z...|  Operations Analyst|   4 years|      MORTGAGE|   70000.0|            NULL|    Source Verified|   466xx|        IN|    11234.0|   134805.0| 107816|    Current|    10700.0|   IN|      10700.0| 36 months|  0.1075|    6|      16 May 2016|     false|INDIVIDUAL|       credit_card|Credit card refin...|\n",
      "|Yic/XHhiNlx4ODY9X...|   Merchant Services|   2 years|      MORTGAGE|   50000.0|         92000.0|    Source Verified|   146xx|        NY|    10861.0|   152052.0| 194484|    Current|    20000.0|   NY|      20000.0| 36 months|    NULL|   11|   19 August 2019|     false| Joint App|debt_consolidation|  Debt consolidation|\n",
      "|YidceGU1elx4MWUsX...|        PARTS SALES | 10+ years|      MORTGAGE|   94000.0|            NULL|    Source Verified|   240xx|        VA|    23974.0|   167816.0| 135983|    Current|    13500.0|   VA|      13500.0| 36 months|  0.1056|    6|     18 June 2018|     false|Individual|  home_improvement|    Home improvement|\n",
      "|YidPXHgwNFx4YTFce...|Applied Behaviora...|    1 year|      MORTGAGE|   35000.0|            NULL|    Source Verified|   183xx|        PA|     7184.0|    79029.0|  95438|    Current|    10000.0|   PA|      10000.0| 36 months|  0.1407|   11|      18 May 2018|     false|Individual|  home_improvement|    Home improvement|\n",
      "|YidceDgwXHhhNVx4Y...|  Patient access rep|   9 years|           OWN|   78000.0|            NULL|    Source Verified|   132xx|        NY|    20002.0|   120009.0|  91411|    Current|    10000.0|   NY|      10000.0| 36 months|    NULL|    8|  16 October 2016|     false|INDIVIDUAL|debt_consolidation|  Debt consolidation|\n",
      "|YidceGY5cE1ceGQ3X...|   Sounds installer |  < 1 year|      MORTGAGE|   60000.0|            NULL|    Source Verified|   902xx|        CA|    21792.0|   392253.0|  58104|    Current|     7350.0|   CA|       7350.0| 36 months|  0.1279|   15|   16 August 2016|     false|INDIVIDUAL|debt_consolidation|  Debt consolidation|\n",
      "|YidSXHhmZlx4Zjlce...|             Teacher| 10+ years|      MORTGAGE| 60341.551|       126541.99|       Not Verified|   490xx|        MI|    12984.0|   168787.0| 124819|    Current|    12000.0|   MI|      12000.0| 60 months|  0.1075|    8|      16 May 2016|     false|     JOINT|debt_consolidation|                NULL|\n",
      "|YidceGUyXHhkYVx4O...|    Account advocate|    1 year|          RENT|   27500.0|            NULL|       Not Verified|   840xx|        UT|     4704.0|    75268.0| 133387|    Current|    13000.0|   UT|      13000.0| 36 months|  0.1155|    8|     18 July 2018|     false|Individual|       credit_card|Credit card refin...|\n",
      "|YidceDExXHhjMFx4O...|   Medical Assistant| 10+ years|      MORTGAGE|   85000.0|            NULL|       Not Verified|   341xx|        FL|    23873.0|   453586.0|  83068|    Current|    10000.0|   FL|      10000.0| 36 months|  0.0607|    5|      18 May 2018|     false|Individual|       credit_card|Credit card refin...|\n",
      "|YictXHhjZFx4ZmJce...|                NULL|      NULL|      MORTGAGE|   50000.0|            NULL|       Not Verified|   288xx|        NC|     3498.0|    27980.0|   7471|    Current|     2500.0|   NC|       2500.0| 36 months|  0.1308|    6|     19 July 2019|     false|Individual|debt_consolidation|  Debt consolidation|\n",
      "|YidvXHhlM1x4OTJce...|Business Office M...|   4 years|      MORTGAGE|   90000.0|            NULL|       Not Verified|   370xx|        TN|    23586.0|   353784.0| 155693| Fully Paid|    15000.0|   TN|      15000.0| 60 months|  0.1229|   14|15 September 2015|     false|Individual|debt_consolidation|  Debt consolidation|\n",
      "|YidcdFx4ZjNceGRmX...|     Operations Lead|   3 years|      MORTGAGE|   51000.0|            NULL|    Source Verified|   142xx|        NY|     9814.0|    88329.0| 112851|    Current|    11200.0|   NY|      11200.0| 60 months|  0.1825|   22|      15 May 2015|     false|Individual|debt_consolidation|  Debt consolidation|\n",
      "|YidceDllXHg5YXAqb...|Assistant Controller|  < 1 year|      MORTGAGE|   91000.0|            NULL|       Not Verified|   782xx|        TX|    15787.0|   299951.0|  70503|    Current|     8375.0|   TX|       8375.0| 36 months|    NULL|    2| 19 December 2019|     false|Individual|debt_consolidation|  Debt consolidation|\n",
      "+--------------------+--------------------+----------+--------------+----------+----------------+-------------------+--------+----------+-----------+-----------+-------+-----------+-----------+-----+-------------+----------+--------+-----+-----------------+----------+----------+------------------+--------------------+\n",
      "only showing top 20 rows\n",
      "\n"
     ]
    }
   ],
   "source": [
    "df.show(20)"
   ]
  },
  {
   "cell_type": "markdown",
   "metadata": {},
   "source": [
    "# `Part 2: Cleaning`"
   ]
  },
  {
   "cell_type": "code",
   "execution_count": 66,
   "metadata": {},
   "outputs": [],
   "source": [
    "df_new = df.toDF(*[col.replace(\" \", \"_\").lower() for col in df.columns])\n"
   ]
  },
  {
   "cell_type": "code",
   "execution_count": 67,
   "metadata": {},
   "outputs": [
    {
     "name": "stdout",
     "output_type": "stream",
     "text": [
      "+-------+--------------------+------------+----------+--------------+-----------------+------------------+-------------------+--------+----------+------------------+------------------+----------------+------------------+------------------+-----+------------------+----------+-------------------+-----------------+-----------------+----------+-------+--------------------+\n",
      "|summary|         customer_id|   emp_title|emp_length|home_ownership|       annual_inc|  annual_inc_joint|verification_status|zip_code|addr_state|       avg_cur_bal|       tot_cur_bal|         loan_id|       loan_status|       loan_amount|state|     funded_amount|      term|           int_rate|            grade|       issue_date|      type|purpose|         description|\n",
      "+-------+--------------------+------------+----------+--------------+-----------------+------------------+-------------------+--------+----------+------------------+------------------+----------------+------------------+------------------+-----+------------------+----------+-------------------+-----------------+-----------------+----------+-------+--------------------+\n",
      "|  count|               27030|       24607|     25089|         27030|            27030|              1834|              27030|   27030|     27030|             27030|             27030|           27030|             27030|             27030|27030|             27030|     27030|              25770|            27030|            27030|     27030|  27030|               26774|\n",
      "|   mean|                NULL|        NULL|      NULL|          NULL|78711.32696840548|130089.20692995162|               NULL|    NULL|      NULL|13649.023566407695| 144224.6123936367|134513.226600074|              NULL|15342.004254532001| NULL|15342.004254532001|      NULL| 0.1306755917733801|10.91842397336293|             NULL|      NULL|   NULL|              2012.0|\n",
      "| stddev|                NULL|        NULL|      NULL|          NULL|57707.30865325825| 66828.34123562841|               NULL|    NULL|      NULL|17035.372128856212|165377.68959119567|78156.6656046522|              NULL| 9442.584363482612| NULL| 9442.584363482612|      NULL|0.04912881631450934|6.347075294041912|             NULL|      NULL|   NULL|                NULL|\n",
      "|    min|YiI+XHg4Mj0qXHhmY...|  Carpenter |    1 year|           ANY|            200.0|           17200.0|       Not Verified|   010xx|        AK|               0.0|               1.0|              10|       Charged Off|            1000.0|   AK|            1000.0| 36 months|             0.0531|                1|   12 August 2012|DIRECT_PAY|    car|       Consolidation|\n",
      "|    25%|                NULL|        NULL|      NULL|          NULL|          47000.0|           88000.0|               NULL|    NULL|      NULL|            3049.0|           29080.0|           65972|              NULL|            8000.0| NULL|            8000.0|      NULL|             0.0917|                6|             NULL|      NULL|   NULL|              2012.0|\n",
      "|    50%|                NULL|        NULL|      NULL|          NULL|          65000.0|          115000.0|               NULL|    NULL|      NULL|            7172.0|           77738.0|          134727|              NULL|           13000.0| NULL|           13000.0|      NULL|             0.1259|               10|             NULL|      NULL|   NULL|              2012.0|\n",
      "|    75%|                NULL|        NULL|      NULL|          NULL|          95000.0|          156000.0|               NULL|    NULL|      NULL|           18852.0|          215175.0|          201796|              NULL|           20000.0| NULL|           20000.0|      NULL|             0.1601|               15|             NULL|      NULL|   NULL|              2012.0|\n",
      "|    max|YidzfD9ceGU3fVdce...|     zanjero|  < 1 year|          RENT|        3120208.0|          720000.0|           Verified|   999xx|        WY|          463698.0|         3709587.0|          270295|Late (31-120 days)|           40000.0|   WY|           40000.0| 60 months|             0.3099|               35|19 September 2019| Joint App|wedding|working to get ou...|\n",
      "+-------+--------------------+------------+----------+--------------+-----------------+------------------+-------------------+--------+----------+------------------+------------------+----------------+------------------+------------------+-----+------------------+----------+-------------------+-----------------+-----------------+----------+-------+--------------------+\n",
      "\n"
     ]
    }
   ],
   "source": [
    "df_new.summary().show()"
   ]
  },
  {
   "cell_type": "markdown",
   "metadata": {},
   "source": [
    "## columns renaming"
   ]
  },
  {
   "cell_type": "markdown",
   "metadata": {},
   "source": [
    "## Detect missing"
   ]
  },
  {
   "cell_type": "code",
   "execution_count": 68,
   "metadata": {},
   "outputs": [
    {
     "data": {
      "text/plain": [
       "{'customer_id': 0.0,\n",
       " 'emp_title': 8.96411394746578,\n",
       " 'emp_length': 7.1809100998890125,\n",
       " 'home_ownership': 0.0,\n",
       " 'annual_inc': 0.0,\n",
       " 'annual_inc_joint': 93.21494635590085,\n",
       " 'verification_status': 0.0,\n",
       " 'zip_code': 0.0,\n",
       " 'addr_state': 0.0,\n",
       " 'avg_cur_bal': 0.0,\n",
       " 'tot_cur_bal': 0.0,\n",
       " 'loan_id': 0.0,\n",
       " 'loan_status': 0.0,\n",
       " 'loan_amount': 0.0,\n",
       " 'state': 0.0,\n",
       " 'funded_amount': 0.0,\n",
       " 'term': 0.0,\n",
       " 'int_rate': 4.661487236403995,\n",
       " 'grade': 0.0,\n",
       " 'issue_date': 0.0,\n",
       " 'pymnt_plan': 0.0,\n",
       " 'type': 0.0,\n",
       " 'purpose': 0.0,\n",
       " 'description': 0.9470958194598594}"
      ]
     },
     "execution_count": 68,
     "metadata": {},
     "output_type": "execute_result"
    }
   ],
   "source": [
    "def missing_percentage(df):\n",
    "    total_rows = df.count()\n",
    "    missing = {col: df.filter(df[col].isNull()).count() / total_rows * 100 for col in df.columns}\n",
    "    return missing\n",
    "\n",
    "missing_info = missing_percentage(df_new)\n",
    "missing_info"
   ]
  },
  {
   "cell_type": "code",
   "execution_count": 69,
   "metadata": {},
   "outputs": [],
   "source": [
    "df_new = df_new.fillna(value = 0,subset=['annual_inc_joint','int_rate'])"
   ]
  },
  {
   "cell_type": "code",
   "execution_count": 70,
   "metadata": {},
   "outputs": [
    {
     "data": {
      "text/plain": [
       "{'customer_id': 0.0,\n",
       " 'emp_title': 8.96411394746578,\n",
       " 'emp_length': 7.1809100998890125,\n",
       " 'home_ownership': 0.0,\n",
       " 'annual_inc': 0.0,\n",
       " 'annual_inc_joint': 0.0,\n",
       " 'verification_status': 0.0,\n",
       " 'zip_code': 0.0,\n",
       " 'addr_state': 0.0,\n",
       " 'avg_cur_bal': 0.0,\n",
       " 'tot_cur_bal': 0.0,\n",
       " 'loan_id': 0.0,\n",
       " 'loan_status': 0.0,\n",
       " 'loan_amount': 0.0,\n",
       " 'state': 0.0,\n",
       " 'funded_amount': 0.0,\n",
       " 'term': 0.0,\n",
       " 'int_rate': 0.0,\n",
       " 'grade': 0.0,\n",
       " 'issue_date': 0.0,\n",
       " 'pymnt_plan': 0.0,\n",
       " 'type': 0.0,\n",
       " 'purpose': 0.0,\n",
       " 'description': 0.9470958194598594}"
      ]
     },
     "execution_count": 70,
     "metadata": {},
     "output_type": "execute_result"
    }
   ],
   "source": [
    "missing_info = missing_percentage(df_new)\n",
    "missing_info"
   ]
  },
  {
   "cell_type": "markdown",
   "metadata": {},
   "source": [
    "## handling emp length missing\n"
   ]
  },
  {
   "cell_type": "code",
   "execution_count": 71,
   "metadata": {},
   "outputs": [
    {
     "name": "stdout",
     "output_type": "stream",
     "text": [
      "+----------+-----+\n",
      "|emp_length|count|\n",
      "+----------+-----+\n",
      "| 10+ years| 8970|\n",
      "+----------+-----+\n",
      "\n"
     ]
    }
   ],
   "source": [
    "from pyspark.sql.functions import col\n",
    "mode_emp_length = df_new.groupBy('emp_length').count()\\\n",
    "                      .orderBy(col('count').desc())\\\n",
    "                      .limit(1)\n",
    "mode_emp_length.show()"
   ]
  },
  {
   "cell_type": "code",
   "execution_count": 72,
   "metadata": {},
   "outputs": [
    {
     "data": {
      "text/plain": [
       "'10+ years'"
      ]
     },
     "execution_count": 72,
     "metadata": {},
     "output_type": "execute_result"
    }
   ],
   "source": [
    "mode_emp_length = mode_emp_length.select('emp_length').collect()[0][0]\n",
    "mode_emp_length"
   ]
  },
  {
   "cell_type": "code",
   "execution_count": 73,
   "metadata": {},
   "outputs": [
    {
     "data": {
      "text/plain": [
       "0"
      ]
     },
     "execution_count": 73,
     "metadata": {},
     "output_type": "execute_result"
    }
   ],
   "source": [
    "df_new = df_new.fillna(value = mode_emp_length,subset=['emp_length'])\n",
    "df_new.filter(df_new.emp_length.isNull()).count()"
   ]
  },
  {
   "cell_type": "markdown",
   "metadata": {},
   "source": [
    "## handling emp title missing"
   ]
  },
  {
   "cell_type": "code",
   "execution_count": 74,
   "metadata": {},
   "outputs": [
    {
     "name": "stdout",
     "output_type": "stream",
     "text": [
      "+---------+-----+\n",
      "|emp_title|count|\n",
      "+---------+-----+\n",
      "|     NULL| 2423|\n",
      "|  Teacher|  479|\n",
      "+---------+-----+\n",
      "\n"
     ]
    }
   ],
   "source": [
    "mode_emp_title = df_new.groupBy('emp_title').count().orderBy(col('count').desc()).limit(2)\n",
    "mode_emp_title.show()"
   ]
  },
  {
   "cell_type": "code",
   "execution_count": 75,
   "metadata": {},
   "outputs": [
    {
     "data": {
      "text/plain": [
       "'Teacher'"
      ]
     },
     "execution_count": 75,
     "metadata": {},
     "output_type": "execute_result"
    }
   ],
   "source": [
    "mode_emp_title = mode_emp_title.select('emp_title').collect()[1][0]\n",
    "mode_emp_title"
   ]
  },
  {
   "cell_type": "code",
   "execution_count": 76,
   "metadata": {},
   "outputs": [
    {
     "data": {
      "text/plain": [
       "0"
      ]
     },
     "execution_count": 76,
     "metadata": {},
     "output_type": "execute_result"
    }
   ],
   "source": [
    "df_new= df_new.fillna(value = mode_emp_title,subset=['emp_title'])\n",
    "df_new.filter(df_new.emp_title.isNull()).count()"
   ]
  },
  {
   "cell_type": "markdown",
   "metadata": {},
   "source": [
    "## handling description missing"
   ]
  },
  {
   "cell_type": "code",
   "execution_count": 77,
   "metadata": {},
   "outputs": [
    {
     "name": "stdout",
     "output_type": "stream",
     "text": [
      "+--------------------+-----+\n",
      "|         description|count|\n",
      "+--------------------+-----+\n",
      "|  Debt consolidation|14316|\n",
      "|Credit card refin...| 6013|\n",
      "+--------------------+-----+\n",
      "\n"
     ]
    }
   ],
   "source": [
    "mode_desc= df_new.groupBy('description').count().orderBy(col('count').desc()).limit(2)\n",
    "mode_desc.show()"
   ]
  },
  {
   "cell_type": "code",
   "execution_count": 78,
   "metadata": {},
   "outputs": [],
   "source": [
    "mode_desc = mode_desc.select('description').collect()[1][0]\n"
   ]
  },
  {
   "cell_type": "code",
   "execution_count": 79,
   "metadata": {},
   "outputs": [],
   "source": [
    "df_new= df_new.fillna(value = mode_desc,subset=['description'])\n"
   ]
  },
  {
   "cell_type": "markdown",
   "metadata": {},
   "source": [
    "## checking that there are'nt any missing values any more"
   ]
  },
  {
   "cell_type": "code",
   "execution_count": 80,
   "metadata": {},
   "outputs": [
    {
     "data": {
      "text/plain": [
       "{'customer_id': 0.0,\n",
       " 'emp_title': 0.0,\n",
       " 'emp_length': 0.0,\n",
       " 'home_ownership': 0.0,\n",
       " 'annual_inc': 0.0,\n",
       " 'annual_inc_joint': 0.0,\n",
       " 'verification_status': 0.0,\n",
       " 'zip_code': 0.0,\n",
       " 'addr_state': 0.0,\n",
       " 'avg_cur_bal': 0.0,\n",
       " 'tot_cur_bal': 0.0,\n",
       " 'loan_id': 0.0,\n",
       " 'loan_status': 0.0,\n",
       " 'loan_amount': 0.0,\n",
       " 'state': 0.0,\n",
       " 'funded_amount': 0.0,\n",
       " 'term': 0.0,\n",
       " 'int_rate': 0.0,\n",
       " 'grade': 0.0,\n",
       " 'issue_date': 0.0,\n",
       " 'pymnt_plan': 0.0,\n",
       " 'type': 0.0,\n",
       " 'purpose': 0.0,\n",
       " 'description': 0.0}"
      ]
     },
     "execution_count": 80,
     "metadata": {},
     "output_type": "execute_result"
    }
   ],
   "source": [
    "missing_info = missing_percentage(df_new)\n",
    "missing_info"
   ]
  },
  {
   "cell_type": "markdown",
   "metadata": {},
   "source": [
    "# `Part 3: Encoding`"
   ]
  },
  {
   "cell_type": "markdown",
   "metadata": {},
   "source": [
    "## converting emp length to int"
   ]
  },
  {
   "cell_type": "code",
   "execution_count": 81,
   "metadata": {},
   "outputs": [
    {
     "name": "stdout",
     "output_type": "stream",
     "text": [
      "+--------------------+--------------------+----------+--------------+----------+----------------+-------------------+--------+----------+-----------+-----------+-------+-----------+-----------+-----+-------------+----------+--------+-----+-----------------+----------+----------+------------------+--------------------+\n",
      "|         customer_id|           emp_title|emp_length|home_ownership|annual_inc|annual_inc_joint|verification_status|zip_code|addr_state|avg_cur_bal|tot_cur_bal|loan_id|loan_status|loan_amount|state|funded_amount|      term|int_rate|grade|       issue_date|pymnt_plan|      type|           purpose|         description|\n",
      "+--------------------+--------------------+----------+--------------+----------+----------------+-------------------+--------+----------+-----------+-----------+-------+-----------+-----------+-----+-------------+----------+--------+-----+-----------------+----------+----------+------------------+--------------------+\n",
      "|YidceGE2XHhmYlx4O...|             Teacher|        11|          RENT|   12900.0|             0.0|           Verified|   481xx|        MI|     1275.0|     6375.0|   4185|    Current|     2000.0|   MI|       2000.0| 36 months|  0.1049|   10|    17 April 2017|     false|Individual|       credit_card|Credit card refin...|\n",
      "|YidceGY4eH1zXHg4N...|             Teacher|         0|      MORTGAGE|   46000.0|        126000.0|    Source Verified|   988xx|        WA|     5022.0|    55246.0| 170045|    Current|    16300.0|   WA|      16300.0| 60 months|  0.1308|   10| 19 November 2019|     false| Joint App|debt_consolidation|  Debt consolidation|\n",
      "|YiJceGFlXHhmZFx4O...|Social Studies Te...|         9|          RENT|   62000.0|             0.0|       Not Verified|   151xx|        PA|     3205.0|    35260.0|  25613|    Current|     5000.0|   PA|       5000.0| 36 months|  0.0649|    5|      16 May 2016|     false|INDIVIDUAL|             other|               Other|\n",
      "|YidceDgxXHhhN1dce...|          Instructor|         3|          RENT|   90000.0|             0.0|       Not Verified|   342xx|        FL|     3943.0|    67036.0|  85728|    Current|    10000.0|   FL|      10000.0| 36 months|  0.0756|    4|      19 May 2019|     false|Individual|       credit_card|Credit card refin...|\n",
      "|YidyXHhlY0Aoakpce...|Prior Authorizati...|         0|      MORTGAGE|   76000.0|             0.0|    Source Verified|   330xx|        FL|    20336.0|   264371.0| 190035|    Current|    20000.0|   FL|      20000.0| 36 months|  0.0799|    3|     16 July 2016|     false|INDIVIDUAL|debt_consolidation|  Debt consolidation|\n",
      "|YidlXHhmZFx4MGM3X...|     Account manager|        11|           OWN|   73000.0|             0.0|       Not Verified|   445xx|        OH|     1843.0|    20275.0|  63098| Fully Paid|     8000.0|   OH|       8000.0| 36 months|  0.0784|    5|  18 October 2018|     false|Individual|debt_consolidation|  Debt consolidation|\n",
      "|YidDXHhhM1x4MTVce...|   Marketing Manager|        11|      MORTGAGE|   67000.0|             0.0|           Verified|   970xx|        OR|    13791.0|   179291.0| 126558| Fully Paid|    12000.0|   OR|      12000.0| 60 months|  0.1465|   12|    15 April 2015|     false|Individual|debt_consolidation|  Debt consolidation|\n",
      "|YidVXHgwNyNcdFx4Z...|  Operations Analyst|         4|      MORTGAGE|   70000.0|             0.0|    Source Verified|   466xx|        IN|    11234.0|   134805.0| 107816|    Current|    10700.0|   IN|      10700.0| 36 months|  0.1075|    6|      16 May 2016|     false|INDIVIDUAL|       credit_card|Credit card refin...|\n",
      "|Yic/XHhiNlx4ODY9X...|   Merchant Services|         2|      MORTGAGE|   50000.0|         92000.0|    Source Verified|   146xx|        NY|    10861.0|   152052.0| 194484|    Current|    20000.0|   NY|      20000.0| 36 months|     0.0|   11|   19 August 2019|     false| Joint App|debt_consolidation|  Debt consolidation|\n",
      "|YidceGU1elx4MWUsX...|        PARTS SALES |        11|      MORTGAGE|   94000.0|             0.0|    Source Verified|   240xx|        VA|    23974.0|   167816.0| 135983|    Current|    13500.0|   VA|      13500.0| 36 months|  0.1056|    6|     18 June 2018|     false|Individual|  home_improvement|    Home improvement|\n",
      "|YidPXHgwNFx4YTFce...|Applied Behaviora...|         1|      MORTGAGE|   35000.0|             0.0|    Source Verified|   183xx|        PA|     7184.0|    79029.0|  95438|    Current|    10000.0|   PA|      10000.0| 36 months|  0.1407|   11|      18 May 2018|     false|Individual|  home_improvement|    Home improvement|\n",
      "|YidceDgwXHhhNVx4Y...|  Patient access rep|         9|           OWN|   78000.0|             0.0|    Source Verified|   132xx|        NY|    20002.0|   120009.0|  91411|    Current|    10000.0|   NY|      10000.0| 36 months|     0.0|    8|  16 October 2016|     false|INDIVIDUAL|debt_consolidation|  Debt consolidation|\n",
      "|YidceGY5cE1ceGQ3X...|   Sounds installer |         0|      MORTGAGE|   60000.0|             0.0|    Source Verified|   902xx|        CA|    21792.0|   392253.0|  58104|    Current|     7350.0|   CA|       7350.0| 36 months|  0.1279|   15|   16 August 2016|     false|INDIVIDUAL|debt_consolidation|  Debt consolidation|\n",
      "|YidSXHhmZlx4Zjlce...|             Teacher|        11|      MORTGAGE| 60341.551|       126541.99|       Not Verified|   490xx|        MI|    12984.0|   168787.0| 124819|    Current|    12000.0|   MI|      12000.0| 60 months|  0.1075|    8|      16 May 2016|     false|     JOINT|debt_consolidation|Credit card refin...|\n",
      "|YidceGUyXHhkYVx4O...|    Account advocate|         1|          RENT|   27500.0|             0.0|       Not Verified|   840xx|        UT|     4704.0|    75268.0| 133387|    Current|    13000.0|   UT|      13000.0| 36 months|  0.1155|    8|     18 July 2018|     false|Individual|       credit_card|Credit card refin...|\n",
      "|YidceDExXHhjMFx4O...|   Medical Assistant|        11|      MORTGAGE|   85000.0|             0.0|       Not Verified|   341xx|        FL|    23873.0|   453586.0|  83068|    Current|    10000.0|   FL|      10000.0| 36 months|  0.0607|    5|      18 May 2018|     false|Individual|       credit_card|Credit card refin...|\n",
      "|YictXHhjZFx4ZmJce...|             Teacher|        11|      MORTGAGE|   50000.0|             0.0|       Not Verified|   288xx|        NC|     3498.0|    27980.0|   7471|    Current|     2500.0|   NC|       2500.0| 36 months|  0.1308|    6|     19 July 2019|     false|Individual|debt_consolidation|  Debt consolidation|\n",
      "|YidvXHhlM1x4OTJce...|Business Office M...|         4|      MORTGAGE|   90000.0|             0.0|       Not Verified|   370xx|        TN|    23586.0|   353784.0| 155693| Fully Paid|    15000.0|   TN|      15000.0| 60 months|  0.1229|   14|15 September 2015|     false|Individual|debt_consolidation|  Debt consolidation|\n",
      "|YidcdFx4ZjNceGRmX...|     Operations Lead|         3|      MORTGAGE|   51000.0|             0.0|    Source Verified|   142xx|        NY|     9814.0|    88329.0| 112851|    Current|    11200.0|   NY|      11200.0| 60 months|  0.1825|   22|      15 May 2015|     false|Individual|debt_consolidation|  Debt consolidation|\n",
      "|YidceDllXHg5YXAqb...|Assistant Controller|         0|      MORTGAGE|   91000.0|             0.0|       Not Verified|   782xx|        TX|    15787.0|   299951.0|  70503|    Current|     8375.0|   TX|       8375.0| 36 months|     0.0|    2| 19 December 2019|     false|Individual|debt_consolidation|  Debt consolidation|\n",
      "+--------------------+--------------------+----------+--------------+----------+----------------+-------------------+--------+----------+-----------+-----------+-------+-----------+-----------+-----+-------------+----------+--------+-----+-----------------+----------+----------+------------------+--------------------+\n",
      "only showing top 20 rows\n",
      "\n"
     ]
    }
   ],
   "source": [
    "from pyspark.sql.types import IntegerType\n",
    "from pyspark.sql.functions import udf\n",
    "\n",
    "# Define the convert_emp_length function\n",
    "def convert_emp_length(emp_length):\n",
    "    if emp_length is None:\n",
    "        return None  # Handle null values\n",
    "    emp_length = emp_length.strip().lower()  # Normalize the input\n",
    "    if emp_length == '10+ years':\n",
    "        return 11\n",
    "    elif emp_length == '< 1 year':\n",
    "        return 0\n",
    "    elif emp_length == '1 year':\n",
    "        return 1\n",
    "    elif emp_length == '2 years':\n",
    "        return 2\n",
    "    elif emp_length == '3 years':\n",
    "        return 3\n",
    "    elif emp_length == '4 years':\n",
    "        return 4\n",
    "    elif emp_length == '5 years':\n",
    "        return 5\n",
    "    elif emp_length == '6 years':\n",
    "        return 6\n",
    "    elif emp_length == '7 years':\n",
    "        return 7\n",
    "    elif emp_length == '8 years':\n",
    "        return 8\n",
    "    elif emp_length == '9 years':\n",
    "        return 9\n",
    "    else:\n",
    "        return None  # Return None for unexpected values\n",
    "\n",
    "# Register the UDF\n",
    "convert_emp_length_udf = udf(convert_emp_length, IntegerType())\n",
    "\n",
    "# Apply the UDF to overwrite the column\n",
    "df_new = df_new.withColumn(\"emp_length_imputed\", convert_emp_length_udf(df_new[\"emp_length\"]))\n",
    "df_new_distinct = df_new.select(\"emp_length\", \"emp_length_imputed\").distinct()\n",
    "for row in df_new_distinct.collect():\n",
    "    emp_length = row['emp_length']\n",
    "    emp_length_imputed = row['emp_length_imputed']\n",
    "    track_changes(\"emp_length\", str(emp_length), emp_length_imputed)\n",
    "\n",
    "df_new = df_new.withColumn(\"emp_length\", convert_emp_length_udf(df_new[\"emp_length\"]))\n",
    "df_new=df_new.drop(\"emp_length_imputed\")\n",
    "\n",
    "df_new.show()\n"
   ]
  },
  {
   "cell_type": "markdown",
   "metadata": {},
   "source": [
    "## encoding verification status\n"
   ]
  },
  {
   "cell_type": "code",
   "execution_count": 82,
   "metadata": {},
   "outputs": [
    {
     "name": "stdout",
     "output_type": "stream",
     "text": [
      "+--------------------+--------------------+----------+--------------+----------+----------------+-------------------+--------+----------+-----------+-----------+-------+-----------+-----------+-----+-------------+----------+--------+-----+-----------------+----------+----------+------------------+--------------------+----------------------------+-----------------------------------+--------------------------------+\n",
      "|         customer_id|           emp_title|emp_length|home_ownership|annual_inc|annual_inc_joint|verification_status|zip_code|addr_state|avg_cur_bal|tot_cur_bal|loan_id|loan_status|loan_amount|state|funded_amount|      term|int_rate|grade|       issue_date|pymnt_plan|      type|           purpose|         description|verification_status_Verified|verification_status_Source Verified|verification_status_Not Verified|\n",
      "+--------------------+--------------------+----------+--------------+----------+----------------+-------------------+--------+----------+-----------+-----------+-------+-----------+-----------+-----+-------------+----------+--------+-----+-----------------+----------+----------+------------------+--------------------+----------------------------+-----------------------------------+--------------------------------+\n",
      "|YidceGE2XHhmYlx4O...|             Teacher|        11|          RENT|   12900.0|             0.0|           Verified|   481xx|        MI|     1275.0|     6375.0|   4185|    Current|     2000.0|   MI|       2000.0| 36 months|  0.1049|   10|    17 April 2017|     false|Individual|       credit_card|Credit card refin...|                           1|                                  0|                               0|\n",
      "|YidceGY4eH1zXHg4N...|             Teacher|         0|      MORTGAGE|   46000.0|        126000.0|    Source Verified|   988xx|        WA|     5022.0|    55246.0| 170045|    Current|    16300.0|   WA|      16300.0| 60 months|  0.1308|   10| 19 November 2019|     false| Joint App|debt_consolidation|  Debt consolidation|                           0|                                  1|                               0|\n",
      "|YiJceGFlXHhmZFx4O...|Social Studies Te...|         9|          RENT|   62000.0|             0.0|       Not Verified|   151xx|        PA|     3205.0|    35260.0|  25613|    Current|     5000.0|   PA|       5000.0| 36 months|  0.0649|    5|      16 May 2016|     false|INDIVIDUAL|             other|               Other|                           0|                                  0|                               1|\n",
      "|YidceDgxXHhhN1dce...|          Instructor|         3|          RENT|   90000.0|             0.0|       Not Verified|   342xx|        FL|     3943.0|    67036.0|  85728|    Current|    10000.0|   FL|      10000.0| 36 months|  0.0756|    4|      19 May 2019|     false|Individual|       credit_card|Credit card refin...|                           0|                                  0|                               1|\n",
      "|YidyXHhlY0Aoakpce...|Prior Authorizati...|         0|      MORTGAGE|   76000.0|             0.0|    Source Verified|   330xx|        FL|    20336.0|   264371.0| 190035|    Current|    20000.0|   FL|      20000.0| 36 months|  0.0799|    3|     16 July 2016|     false|INDIVIDUAL|debt_consolidation|  Debt consolidation|                           0|                                  1|                               0|\n",
      "|YidlXHhmZFx4MGM3X...|     Account manager|        11|           OWN|   73000.0|             0.0|       Not Verified|   445xx|        OH|     1843.0|    20275.0|  63098| Fully Paid|     8000.0|   OH|       8000.0| 36 months|  0.0784|    5|  18 October 2018|     false|Individual|debt_consolidation|  Debt consolidation|                           0|                                  0|                               1|\n",
      "|YidDXHhhM1x4MTVce...|   Marketing Manager|        11|      MORTGAGE|   67000.0|             0.0|           Verified|   970xx|        OR|    13791.0|   179291.0| 126558| Fully Paid|    12000.0|   OR|      12000.0| 60 months|  0.1465|   12|    15 April 2015|     false|Individual|debt_consolidation|  Debt consolidation|                           1|                                  0|                               0|\n",
      "|YidVXHgwNyNcdFx4Z...|  Operations Analyst|         4|      MORTGAGE|   70000.0|             0.0|    Source Verified|   466xx|        IN|    11234.0|   134805.0| 107816|    Current|    10700.0|   IN|      10700.0| 36 months|  0.1075|    6|      16 May 2016|     false|INDIVIDUAL|       credit_card|Credit card refin...|                           0|                                  1|                               0|\n",
      "|Yic/XHhiNlx4ODY9X...|   Merchant Services|         2|      MORTGAGE|   50000.0|         92000.0|    Source Verified|   146xx|        NY|    10861.0|   152052.0| 194484|    Current|    20000.0|   NY|      20000.0| 36 months|     0.0|   11|   19 August 2019|     false| Joint App|debt_consolidation|  Debt consolidation|                           0|                                  1|                               0|\n",
      "|YidceGU1elx4MWUsX...|        PARTS SALES |        11|      MORTGAGE|   94000.0|             0.0|    Source Verified|   240xx|        VA|    23974.0|   167816.0| 135983|    Current|    13500.0|   VA|      13500.0| 36 months|  0.1056|    6|     18 June 2018|     false|Individual|  home_improvement|    Home improvement|                           0|                                  1|                               0|\n",
      "|YidPXHgwNFx4YTFce...|Applied Behaviora...|         1|      MORTGAGE|   35000.0|             0.0|    Source Verified|   183xx|        PA|     7184.0|    79029.0|  95438|    Current|    10000.0|   PA|      10000.0| 36 months|  0.1407|   11|      18 May 2018|     false|Individual|  home_improvement|    Home improvement|                           0|                                  1|                               0|\n",
      "|YidceDgwXHhhNVx4Y...|  Patient access rep|         9|           OWN|   78000.0|             0.0|    Source Verified|   132xx|        NY|    20002.0|   120009.0|  91411|    Current|    10000.0|   NY|      10000.0| 36 months|     0.0|    8|  16 October 2016|     false|INDIVIDUAL|debt_consolidation|  Debt consolidation|                           0|                                  1|                               0|\n",
      "|YidceGY5cE1ceGQ3X...|   Sounds installer |         0|      MORTGAGE|   60000.0|             0.0|    Source Verified|   902xx|        CA|    21792.0|   392253.0|  58104|    Current|     7350.0|   CA|       7350.0| 36 months|  0.1279|   15|   16 August 2016|     false|INDIVIDUAL|debt_consolidation|  Debt consolidation|                           0|                                  1|                               0|\n",
      "|YidSXHhmZlx4Zjlce...|             Teacher|        11|      MORTGAGE| 60341.551|       126541.99|       Not Verified|   490xx|        MI|    12984.0|   168787.0| 124819|    Current|    12000.0|   MI|      12000.0| 60 months|  0.1075|    8|      16 May 2016|     false|     JOINT|debt_consolidation|Credit card refin...|                           0|                                  0|                               1|\n",
      "|YidceGUyXHhkYVx4O...|    Account advocate|         1|          RENT|   27500.0|             0.0|       Not Verified|   840xx|        UT|     4704.0|    75268.0| 133387|    Current|    13000.0|   UT|      13000.0| 36 months|  0.1155|    8|     18 July 2018|     false|Individual|       credit_card|Credit card refin...|                           0|                                  0|                               1|\n",
      "|YidceDExXHhjMFx4O...|   Medical Assistant|        11|      MORTGAGE|   85000.0|             0.0|       Not Verified|   341xx|        FL|    23873.0|   453586.0|  83068|    Current|    10000.0|   FL|      10000.0| 36 months|  0.0607|    5|      18 May 2018|     false|Individual|       credit_card|Credit card refin...|                           0|                                  0|                               1|\n",
      "|YictXHhjZFx4ZmJce...|             Teacher|        11|      MORTGAGE|   50000.0|             0.0|       Not Verified|   288xx|        NC|     3498.0|    27980.0|   7471|    Current|     2500.0|   NC|       2500.0| 36 months|  0.1308|    6|     19 July 2019|     false|Individual|debt_consolidation|  Debt consolidation|                           0|                                  0|                               1|\n",
      "|YidvXHhlM1x4OTJce...|Business Office M...|         4|      MORTGAGE|   90000.0|             0.0|       Not Verified|   370xx|        TN|    23586.0|   353784.0| 155693| Fully Paid|    15000.0|   TN|      15000.0| 60 months|  0.1229|   14|15 September 2015|     false|Individual|debt_consolidation|  Debt consolidation|                           0|                                  0|                               1|\n",
      "|YidcdFx4ZjNceGRmX...|     Operations Lead|         3|      MORTGAGE|   51000.0|             0.0|    Source Verified|   142xx|        NY|     9814.0|    88329.0| 112851|    Current|    11200.0|   NY|      11200.0| 60 months|  0.1825|   22|      15 May 2015|     false|Individual|debt_consolidation|  Debt consolidation|                           0|                                  1|                               0|\n",
      "|YidceDllXHg5YXAqb...|Assistant Controller|         0|      MORTGAGE|   91000.0|             0.0|       Not Verified|   782xx|        TX|    15787.0|   299951.0|  70503|    Current|     8375.0|   TX|       8375.0| 36 months|     0.0|    2| 19 December 2019|     false|Individual|debt_consolidation|  Debt consolidation|                           0|                                  0|                               1|\n",
      "+--------------------+--------------------+----------+--------------+----------+----------------+-------------------+--------+----------+-----------+-----------+-------+-----------+-----------+-----+-------------+----------+--------+-----+-----------------+----------+----------+------------------+--------------------+----------------------------+-----------------------------------+--------------------------------+\n",
      "only showing top 20 rows\n",
      "\n"
     ]
    }
   ],
   "source": [
    "from pyspark.sql.functions import when\n",
    "\n",
    "# Dynamically fetch unique values\n",
    "unique_values = df_new.select(\"verification_status\").distinct().rdd.flatMap(lambda x: x).collect()\n",
    "\n",
    "# Add one-hot encoded columns to the original dataset\n",
    "for value in unique_values:\n",
    "    df_new = df_new.withColumn(f\"verification_status_{value}\", when(df_new[\"verification_status\"] == value, 1).otherwise(0))\n",
    "    track_changes(\"verification_status_\",value,f\"verification_status_{value}\")\n",
    "\n",
    "\n",
    "# Show the result\n",
    "df_new.show()\n"
   ]
  },
  {
   "cell_type": "markdown",
   "metadata": {},
   "source": [
    "## encoding state"
   ]
  },
  {
   "cell_type": "code",
   "execution_count": 83,
   "metadata": {},
   "outputs": [
    {
     "name": "stdout",
     "output_type": "stream",
     "text": [
      "+--------------------+--------------------+----------+--------------+----------+----------------+-------------------+--------+----------+-----------+-----------+-------+-----------+-----------+-----+-------------+----------+--------+-----+-----------------+----------+----------+------------------+--------------------+----------------------------+-----------------------------------+--------------------------------+-------------+\n",
      "|         customer_id|           emp_title|emp_length|home_ownership|annual_inc|annual_inc_joint|verification_status|zip_code|addr_state|avg_cur_bal|tot_cur_bal|loan_id|loan_status|loan_amount|state|funded_amount|      term|int_rate|grade|       issue_date|pymnt_plan|      type|           purpose|         description|verification_status_Verified|verification_status_Source Verified|verification_status_Not Verified|state_encoded|\n",
      "+--------------------+--------------------+----------+--------------+----------+----------------+-------------------+--------+----------+-----------+-----------+-------+-----------+-----------+-----+-------------+----------+--------+-----+-----------------+----------+----------+------------------+--------------------+----------------------------+-----------------------------------+--------------------------------+-------------+\n",
      "|YidceGE2XHhmYlx4O...|             Teacher|        11|          RENT|   12900.0|             0.0|           Verified|   481xx|        MI|     1275.0|     6375.0|   4185|    Current|     2000.0|   MI|       2000.0| 36 months|  0.1049|   10|    17 April 2017|     false|Individual|       credit_card|Credit card refin...|                           1|                                  0|                               0|         12.0|\n",
      "|YidceGY4eH1zXHg4N...|             Teacher|         0|      MORTGAGE|   46000.0|        126000.0|    Source Verified|   988xx|        WA|     5022.0|    55246.0| 170045|    Current|    16300.0|   WA|      16300.0| 60 months|  0.1308|   10| 19 November 2019|     false| Joint App|debt_consolidation|  Debt consolidation|                           0|                                  1|                               0|         15.0|\n",
      "|YiJceGFlXHhmZFx4O...|Social Studies Te...|         9|          RENT|   62000.0|             0.0|       Not Verified|   151xx|        PA|     3205.0|    35260.0|  25613|    Current|     5000.0|   PA|       5000.0| 36 months|  0.0649|    5|      16 May 2016|     false|INDIVIDUAL|             other|               Other|                           0|                                  0|                               1|          8.0|\n",
      "|YidceDgxXHhhN1dce...|          Instructor|         3|          RENT|   90000.0|             0.0|       Not Verified|   342xx|        FL|     3943.0|    67036.0|  85728|    Current|    10000.0|   FL|      10000.0| 36 months|  0.0756|    4|      19 May 2019|     false|Individual|       credit_card|Credit card refin...|                           0|                                  0|                               1|          3.0|\n",
      "|YidyXHhlY0Aoakpce...|Prior Authorizati...|         0|      MORTGAGE|   76000.0|             0.0|    Source Verified|   330xx|        FL|    20336.0|   264371.0| 190035|    Current|    20000.0|   FL|      20000.0| 36 months|  0.0799|    3|     16 July 2016|     false|INDIVIDUAL|debt_consolidation|  Debt consolidation|                           0|                                  1|                               0|          3.0|\n",
      "|YidlXHhmZFx4MGM3X...|     Account manager|        11|           OWN|   73000.0|             0.0|       Not Verified|   445xx|        OH|     1843.0|    20275.0|  63098| Fully Paid|     8000.0|   OH|       8000.0| 36 months|  0.0784|    5|  18 October 2018|     false|Individual|debt_consolidation|  Debt consolidation|                           0|                                  0|                               1|          5.0|\n",
      "|YidDXHhhM1x4MTVce...|   Marketing Manager|        11|      MORTGAGE|   67000.0|             0.0|           Verified|   970xx|        OR|    13791.0|   179291.0| 126558| Fully Paid|    12000.0|   OR|      12000.0| 60 months|  0.1465|   12|    15 April 2015|     false|Individual|debt_consolidation|  Debt consolidation|                           1|                                  0|                               0|         24.0|\n",
      "|YidVXHgwNyNcdFx4Z...|  Operations Analyst|         4|      MORTGAGE|   70000.0|             0.0|    Source Verified|   466xx|        IN|    11234.0|   134805.0| 107816|    Current|    10700.0|   IN|      10700.0| 36 months|  0.1075|    6|      16 May 2016|     false|INDIVIDUAL|       credit_card|Credit card refin...|                           0|                                  1|                               0|         21.0|\n",
      "|Yic/XHhiNlx4ODY9X...|   Merchant Services|         2|      MORTGAGE|   50000.0|         92000.0|    Source Verified|   146xx|        NY|    10861.0|   152052.0| 194484|    Current|    20000.0|   NY|      20000.0| 36 months|     0.0|   11|   19 August 2019|     false| Joint App|debt_consolidation|  Debt consolidation|                           0|                                  1|                               0|          2.0|\n",
      "|YidceGU1elx4MWUsX...|        PARTS SALES |        11|      MORTGAGE|   94000.0|             0.0|    Source Verified|   240xx|        VA|    23974.0|   167816.0| 135983|    Current|    13500.0|   VA|      13500.0| 36 months|  0.1056|    6|     18 June 2018|     false|Individual|  home_improvement|    Home improvement|                           0|                                  1|                               0|          9.0|\n",
      "|YidPXHgwNFx4YTFce...|Applied Behaviora...|         1|      MORTGAGE|   35000.0|             0.0|    Source Verified|   183xx|        PA|     7184.0|    79029.0|  95438|    Current|    10000.0|   PA|      10000.0| 36 months|  0.1407|   11|      18 May 2018|     false|Individual|  home_improvement|    Home improvement|                           0|                                  1|                               0|          8.0|\n",
      "|YidceDgwXHhhNVx4Y...|  Patient access rep|         9|           OWN|   78000.0|             0.0|    Source Verified|   132xx|        NY|    20002.0|   120009.0|  91411|    Current|    10000.0|   NY|      10000.0| 36 months|     0.0|    8|  16 October 2016|     false|INDIVIDUAL|debt_consolidation|  Debt consolidation|                           0|                                  1|                               0|          2.0|\n",
      "|YidceGY5cE1ceGQ3X...|   Sounds installer |         0|      MORTGAGE|   60000.0|             0.0|    Source Verified|   902xx|        CA|    21792.0|   392253.0|  58104|    Current|     7350.0|   CA|       7350.0| 36 months|  0.1279|   15|   16 August 2016|     false|INDIVIDUAL|debt_consolidation|  Debt consolidation|                           0|                                  1|                               0|          0.0|\n",
      "|YidSXHhmZlx4Zjlce...|             Teacher|        11|      MORTGAGE| 60341.551|       126541.99|       Not Verified|   490xx|        MI|    12984.0|   168787.0| 124819|    Current|    12000.0|   MI|      12000.0| 60 months|  0.1075|    8|      16 May 2016|     false|     JOINT|debt_consolidation|Credit card refin...|                           0|                                  0|                               1|         12.0|\n",
      "|YidceGUyXHhkYVx4O...|    Account advocate|         1|          RENT|   27500.0|             0.0|       Not Verified|   840xx|        UT|     4704.0|    75268.0| 133387|    Current|    13000.0|   UT|      13000.0| 36 months|  0.1155|    8|     18 July 2018|     false|Individual|       credit_card|Credit card refin...|                           0|                                  0|                               1|         31.0|\n",
      "|YidceDExXHhjMFx4O...|   Medical Assistant|        11|      MORTGAGE|   85000.0|             0.0|       Not Verified|   341xx|        FL|    23873.0|   453586.0|  83068|    Current|    10000.0|   FL|      10000.0| 36 months|  0.0607|    5|      18 May 2018|     false|Individual|       credit_card|Credit card refin...|                           0|                                  0|                               1|          3.0|\n",
      "|YictXHhjZFx4ZmJce...|             Teacher|        11|      MORTGAGE|   50000.0|             0.0|       Not Verified|   288xx|        NC|     3498.0|    27980.0|   7471|    Current|     2500.0|   NC|       2500.0| 36 months|  0.1308|    6|     19 July 2019|     false|Individual|debt_consolidation|  Debt consolidation|                           0|                                  0|                               1|         10.0|\n",
      "|YidvXHhlM1x4OTJce...|Business Office M...|         4|      MORTGAGE|   90000.0|             0.0|       Not Verified|   370xx|        TN|    23586.0|   353784.0| 155693| Fully Paid|    15000.0|   TN|      15000.0| 60 months|  0.1229|   14|15 September 2015|     false|Individual|debt_consolidation|  Debt consolidation|                           0|                                  0|                               1|         19.0|\n",
      "|YidcdFx4ZjNceGRmX...|     Operations Lead|         3|      MORTGAGE|   51000.0|             0.0|    Source Verified|   142xx|        NY|     9814.0|    88329.0| 112851|    Current|    11200.0|   NY|      11200.0| 60 months|  0.1825|   22|      15 May 2015|     false|Individual|debt_consolidation|  Debt consolidation|                           0|                                  1|                               0|          2.0|\n",
      "|YidceDllXHg5YXAqb...|Assistant Controller|         0|      MORTGAGE|   91000.0|             0.0|       Not Verified|   782xx|        TX|    15787.0|   299951.0|  70503|    Current|     8375.0|   TX|       8375.0| 36 months|     0.0|    2| 19 December 2019|     false|Individual|debt_consolidation|  Debt consolidation|                           0|                                  0|                               1|          1.0|\n",
      "+--------------------+--------------------+----------+--------------+----------+----------------+-------------------+--------+----------+-----------+-----------+-------+-----------+-----------+-----+-------------+----------+--------+-----+-----------------+----------+----------+------------------+--------------------+----------------------------+-----------------------------------+--------------------------------+-------------+\n",
      "only showing top 20 rows\n",
      "\n"
     ]
    }
   ],
   "source": [
    "from pyspark.ml.feature import StringIndexer\n",
    "\n",
    "state_indexer = StringIndexer(inputCol=\"state\", outputCol=\"state_encoded\")\n",
    "\n",
    "indexer_model = state_indexer.fit(df_new)\n",
    "\n",
    "labels = indexer_model.labels  # List of original values\n",
    "\n",
    "[track_changes(state_indexer.getInputCol(), label, float(encoded)) for label, encoded in zip(labels, range(len(labels)))]\n",
    "\n",
    "df_new = indexer_model.transform(df_new)\n",
    "\n",
    "df_new.show()\n"
   ]
  },
  {
   "cell_type": "markdown",
   "metadata": {},
   "source": [
    "## encoding home ownership"
   ]
  },
  {
   "cell_type": "code",
   "execution_count": 84,
   "metadata": {},
   "outputs": [
    {
     "name": "stdout",
     "output_type": "stream",
     "text": [
      "+--------------------+--------------------+----------+--------------+----------+----------------+-------------------+--------+----------+-----------+-----------+-------+-----------+-----------+-----+-------------+----------+--------+-----+-----------------+----------+----------+------------------+--------------------+----------------------------+-----------------------------------+--------------------------------+-------------+------------------+-------------------+-----------------------+------------------+--------------------+-------------------+\n",
      "|         customer_id|           emp_title|emp_length|home_ownership|annual_inc|annual_inc_joint|verification_status|zip_code|addr_state|avg_cur_bal|tot_cur_bal|loan_id|loan_status|loan_amount|state|funded_amount|      term|int_rate|grade|       issue_date|pymnt_plan|      type|           purpose|         description|verification_status_Verified|verification_status_Source Verified|verification_status_Not Verified|state_encoded|home_ownership_OWN|home_ownership_RENT|home_ownership_MORTGAGE|home_ownership_ANY|home_ownership_OTHER|home_ownership_NONE|\n",
      "+--------------------+--------------------+----------+--------------+----------+----------------+-------------------+--------+----------+-----------+-----------+-------+-----------+-----------+-----+-------------+----------+--------+-----+-----------------+----------+----------+------------------+--------------------+----------------------------+-----------------------------------+--------------------------------+-------------+------------------+-------------------+-----------------------+------------------+--------------------+-------------------+\n",
      "|YidceGE2XHhmYlx4O...|             Teacher|        11|          RENT|   12900.0|             0.0|           Verified|   481xx|        MI|     1275.0|     6375.0|   4185|    Current|     2000.0|   MI|       2000.0| 36 months|  0.1049|   10|    17 April 2017|     false|Individual|       credit_card|Credit card refin...|                           1|                                  0|                               0|         12.0|                 0|                  1|                      0|                 0|                   0|                  0|\n",
      "|YidceGY4eH1zXHg4N...|             Teacher|         0|      MORTGAGE|   46000.0|        126000.0|    Source Verified|   988xx|        WA|     5022.0|    55246.0| 170045|    Current|    16300.0|   WA|      16300.0| 60 months|  0.1308|   10| 19 November 2019|     false| Joint App|debt_consolidation|  Debt consolidation|                           0|                                  1|                               0|         15.0|                 0|                  0|                      1|                 0|                   0|                  0|\n",
      "|YiJceGFlXHhmZFx4O...|Social Studies Te...|         9|          RENT|   62000.0|             0.0|       Not Verified|   151xx|        PA|     3205.0|    35260.0|  25613|    Current|     5000.0|   PA|       5000.0| 36 months|  0.0649|    5|      16 May 2016|     false|INDIVIDUAL|             other|               Other|                           0|                                  0|                               1|          8.0|                 0|                  1|                      0|                 0|                   0|                  0|\n",
      "|YidceDgxXHhhN1dce...|          Instructor|         3|          RENT|   90000.0|             0.0|       Not Verified|   342xx|        FL|     3943.0|    67036.0|  85728|    Current|    10000.0|   FL|      10000.0| 36 months|  0.0756|    4|      19 May 2019|     false|Individual|       credit_card|Credit card refin...|                           0|                                  0|                               1|          3.0|                 0|                  1|                      0|                 0|                   0|                  0|\n",
      "|YidyXHhlY0Aoakpce...|Prior Authorizati...|         0|      MORTGAGE|   76000.0|             0.0|    Source Verified|   330xx|        FL|    20336.0|   264371.0| 190035|    Current|    20000.0|   FL|      20000.0| 36 months|  0.0799|    3|     16 July 2016|     false|INDIVIDUAL|debt_consolidation|  Debt consolidation|                           0|                                  1|                               0|          3.0|                 0|                  0|                      1|                 0|                   0|                  0|\n",
      "|YidlXHhmZFx4MGM3X...|     Account manager|        11|           OWN|   73000.0|             0.0|       Not Verified|   445xx|        OH|     1843.0|    20275.0|  63098| Fully Paid|     8000.0|   OH|       8000.0| 36 months|  0.0784|    5|  18 October 2018|     false|Individual|debt_consolidation|  Debt consolidation|                           0|                                  0|                               1|          5.0|                 1|                  0|                      0|                 0|                   0|                  0|\n",
      "|YidDXHhhM1x4MTVce...|   Marketing Manager|        11|      MORTGAGE|   67000.0|             0.0|           Verified|   970xx|        OR|    13791.0|   179291.0| 126558| Fully Paid|    12000.0|   OR|      12000.0| 60 months|  0.1465|   12|    15 April 2015|     false|Individual|debt_consolidation|  Debt consolidation|                           1|                                  0|                               0|         24.0|                 0|                  0|                      1|                 0|                   0|                  0|\n",
      "|YidVXHgwNyNcdFx4Z...|  Operations Analyst|         4|      MORTGAGE|   70000.0|             0.0|    Source Verified|   466xx|        IN|    11234.0|   134805.0| 107816|    Current|    10700.0|   IN|      10700.0| 36 months|  0.1075|    6|      16 May 2016|     false|INDIVIDUAL|       credit_card|Credit card refin...|                           0|                                  1|                               0|         21.0|                 0|                  0|                      1|                 0|                   0|                  0|\n",
      "|Yic/XHhiNlx4ODY9X...|   Merchant Services|         2|      MORTGAGE|   50000.0|         92000.0|    Source Verified|   146xx|        NY|    10861.0|   152052.0| 194484|    Current|    20000.0|   NY|      20000.0| 36 months|     0.0|   11|   19 August 2019|     false| Joint App|debt_consolidation|  Debt consolidation|                           0|                                  1|                               0|          2.0|                 0|                  0|                      1|                 0|                   0|                  0|\n",
      "|YidceGU1elx4MWUsX...|        PARTS SALES |        11|      MORTGAGE|   94000.0|             0.0|    Source Verified|   240xx|        VA|    23974.0|   167816.0| 135983|    Current|    13500.0|   VA|      13500.0| 36 months|  0.1056|    6|     18 June 2018|     false|Individual|  home_improvement|    Home improvement|                           0|                                  1|                               0|          9.0|                 0|                  0|                      1|                 0|                   0|                  0|\n",
      "|YidPXHgwNFx4YTFce...|Applied Behaviora...|         1|      MORTGAGE|   35000.0|             0.0|    Source Verified|   183xx|        PA|     7184.0|    79029.0|  95438|    Current|    10000.0|   PA|      10000.0| 36 months|  0.1407|   11|      18 May 2018|     false|Individual|  home_improvement|    Home improvement|                           0|                                  1|                               0|          8.0|                 0|                  0|                      1|                 0|                   0|                  0|\n",
      "|YidceDgwXHhhNVx4Y...|  Patient access rep|         9|           OWN|   78000.0|             0.0|    Source Verified|   132xx|        NY|    20002.0|   120009.0|  91411|    Current|    10000.0|   NY|      10000.0| 36 months|     0.0|    8|  16 October 2016|     false|INDIVIDUAL|debt_consolidation|  Debt consolidation|                           0|                                  1|                               0|          2.0|                 1|                  0|                      0|                 0|                   0|                  0|\n",
      "|YidceGY5cE1ceGQ3X...|   Sounds installer |         0|      MORTGAGE|   60000.0|             0.0|    Source Verified|   902xx|        CA|    21792.0|   392253.0|  58104|    Current|     7350.0|   CA|       7350.0| 36 months|  0.1279|   15|   16 August 2016|     false|INDIVIDUAL|debt_consolidation|  Debt consolidation|                           0|                                  1|                               0|          0.0|                 0|                  0|                      1|                 0|                   0|                  0|\n",
      "|YidSXHhmZlx4Zjlce...|             Teacher|        11|      MORTGAGE| 60341.551|       126541.99|       Not Verified|   490xx|        MI|    12984.0|   168787.0| 124819|    Current|    12000.0|   MI|      12000.0| 60 months|  0.1075|    8|      16 May 2016|     false|     JOINT|debt_consolidation|Credit card refin...|                           0|                                  0|                               1|         12.0|                 0|                  0|                      1|                 0|                   0|                  0|\n",
      "|YidceGUyXHhkYVx4O...|    Account advocate|         1|          RENT|   27500.0|             0.0|       Not Verified|   840xx|        UT|     4704.0|    75268.0| 133387|    Current|    13000.0|   UT|      13000.0| 36 months|  0.1155|    8|     18 July 2018|     false|Individual|       credit_card|Credit card refin...|                           0|                                  0|                               1|         31.0|                 0|                  1|                      0|                 0|                   0|                  0|\n",
      "|YidceDExXHhjMFx4O...|   Medical Assistant|        11|      MORTGAGE|   85000.0|             0.0|       Not Verified|   341xx|        FL|    23873.0|   453586.0|  83068|    Current|    10000.0|   FL|      10000.0| 36 months|  0.0607|    5|      18 May 2018|     false|Individual|       credit_card|Credit card refin...|                           0|                                  0|                               1|          3.0|                 0|                  0|                      1|                 0|                   0|                  0|\n",
      "|YictXHhjZFx4ZmJce...|             Teacher|        11|      MORTGAGE|   50000.0|             0.0|       Not Verified|   288xx|        NC|     3498.0|    27980.0|   7471|    Current|     2500.0|   NC|       2500.0| 36 months|  0.1308|    6|     19 July 2019|     false|Individual|debt_consolidation|  Debt consolidation|                           0|                                  0|                               1|         10.0|                 0|                  0|                      1|                 0|                   0|                  0|\n",
      "|YidvXHhlM1x4OTJce...|Business Office M...|         4|      MORTGAGE|   90000.0|             0.0|       Not Verified|   370xx|        TN|    23586.0|   353784.0| 155693| Fully Paid|    15000.0|   TN|      15000.0| 60 months|  0.1229|   14|15 September 2015|     false|Individual|debt_consolidation|  Debt consolidation|                           0|                                  0|                               1|         19.0|                 0|                  0|                      1|                 0|                   0|                  0|\n",
      "|YidcdFx4ZjNceGRmX...|     Operations Lead|         3|      MORTGAGE|   51000.0|             0.0|    Source Verified|   142xx|        NY|     9814.0|    88329.0| 112851|    Current|    11200.0|   NY|      11200.0| 60 months|  0.1825|   22|      15 May 2015|     false|Individual|debt_consolidation|  Debt consolidation|                           0|                                  1|                               0|          2.0|                 0|                  0|                      1|                 0|                   0|                  0|\n",
      "|YidceDllXHg5YXAqb...|Assistant Controller|         0|      MORTGAGE|   91000.0|             0.0|       Not Verified|   782xx|        TX|    15787.0|   299951.0|  70503|    Current|     8375.0|   TX|       8375.0| 36 months|     0.0|    2| 19 December 2019|     false|Individual|debt_consolidation|  Debt consolidation|                           0|                                  0|                               1|          1.0|                 0|                  0|                      1|                 0|                   0|                  0|\n",
      "+--------------------+--------------------+----------+--------------+----------+----------------+-------------------+--------+----------+-----------+-----------+-------+-----------+-----------+-----+-------------+----------+--------+-----+-----------------+----------+----------+------------------+--------------------+----------------------------+-----------------------------------+--------------------------------+-------------+------------------+-------------------+-----------------------+------------------+--------------------+-------------------+\n",
      "only showing top 20 rows\n",
      "\n"
     ]
    }
   ],
   "source": [
    "from pyspark.sql.functions import when\n",
    "\n",
    "unique_values = df_new.select(\"home_ownership\").distinct().rdd.flatMap(lambda x: x).collect()\n",
    "\n",
    "# Add one-hot encoded columns to the original dataset\n",
    "for value in unique_values:\n",
    "    df_new = df_new.withColumn(f\"home_ownership_{value}\", when(df_new[\"home_ownership\"] == value, 1).otherwise(0))\n",
    "    track_changes(\"home_ownership\",value,f\"home_ownership_{value}\")\n",
    "\n",
    "\n",
    "# Show the result\n",
    "df_new.show()\n"
   ]
  },
  {
   "cell_type": "markdown",
   "metadata": {},
   "source": [
    "## encoding type"
   ]
  },
  {
   "cell_type": "code",
   "execution_count": 85,
   "metadata": {},
   "outputs": [
    {
     "name": "stdout",
     "output_type": "stream",
     "text": [
      "+--------------------+--------------------+----------+--------------+----------+----------------+-------------------+--------+----------+-----------+-----------+-------+-----------+-----------+-----+-------------+----------+--------+-----+-----------------+----------+----------+------------------+--------------------+----------------------------+-----------------------------------+--------------------------------+-------------+------------------+-------------------+-----------------------+------------------+--------------------+-------------------+--------------+---------------+---------------+----------+\n",
      "|         customer_id|           emp_title|emp_length|home_ownership|annual_inc|annual_inc_joint|verification_status|zip_code|addr_state|avg_cur_bal|tot_cur_bal|loan_id|loan_status|loan_amount|state|funded_amount|      term|int_rate|grade|       issue_date|pymnt_plan|      type|           purpose|         description|verification_status_Verified|verification_status_Source Verified|verification_status_Not Verified|state_encoded|home_ownership_OWN|home_ownership_RENT|home_ownership_MORTGAGE|home_ownership_ANY|home_ownership_OTHER|home_ownership_NONE|type_Joint App|type_INDIVIDUAL|type_DIRECT_PAY|type_JOINT|\n",
      "+--------------------+--------------------+----------+--------------+----------+----------------+-------------------+--------+----------+-----------+-----------+-------+-----------+-----------+-----+-------------+----------+--------+-----+-----------------+----------+----------+------------------+--------------------+----------------------------+-----------------------------------+--------------------------------+-------------+------------------+-------------------+-----------------------+------------------+--------------------+-------------------+--------------+---------------+---------------+----------+\n",
      "|YidceGE2XHhmYlx4O...|             Teacher|        11|          RENT|   12900.0|             0.0|           Verified|   481xx|        MI|     1275.0|     6375.0|   4185|    Current|     2000.0|   MI|       2000.0| 36 months|  0.1049|   10|    17 April 2017|     false|Individual|       credit_card|Credit card refin...|                           1|                                  0|                               0|         12.0|                 0|                  1|                      0|                 0|                   0|                  0|             0|              0|              0|         0|\n",
      "|YidceGY4eH1zXHg4N...|             Teacher|         0|      MORTGAGE|   46000.0|        126000.0|    Source Verified|   988xx|        WA|     5022.0|    55246.0| 170045|    Current|    16300.0|   WA|      16300.0| 60 months|  0.1308|   10| 19 November 2019|     false| Joint App|debt_consolidation|  Debt consolidation|                           0|                                  1|                               0|         15.0|                 0|                  0|                      1|                 0|                   0|                  0|             1|              0|              0|         0|\n",
      "|YiJceGFlXHhmZFx4O...|Social Studies Te...|         9|          RENT|   62000.0|             0.0|       Not Verified|   151xx|        PA|     3205.0|    35260.0|  25613|    Current|     5000.0|   PA|       5000.0| 36 months|  0.0649|    5|      16 May 2016|     false|INDIVIDUAL|             other|               Other|                           0|                                  0|                               1|          8.0|                 0|                  1|                      0|                 0|                   0|                  0|             0|              1|              0|         0|\n",
      "|YidceDgxXHhhN1dce...|          Instructor|         3|          RENT|   90000.0|             0.0|       Not Verified|   342xx|        FL|     3943.0|    67036.0|  85728|    Current|    10000.0|   FL|      10000.0| 36 months|  0.0756|    4|      19 May 2019|     false|Individual|       credit_card|Credit card refin...|                           0|                                  0|                               1|          3.0|                 0|                  1|                      0|                 0|                   0|                  0|             0|              0|              0|         0|\n",
      "|YidyXHhlY0Aoakpce...|Prior Authorizati...|         0|      MORTGAGE|   76000.0|             0.0|    Source Verified|   330xx|        FL|    20336.0|   264371.0| 190035|    Current|    20000.0|   FL|      20000.0| 36 months|  0.0799|    3|     16 July 2016|     false|INDIVIDUAL|debt_consolidation|  Debt consolidation|                           0|                                  1|                               0|          3.0|                 0|                  0|                      1|                 0|                   0|                  0|             0|              1|              0|         0|\n",
      "|YidlXHhmZFx4MGM3X...|     Account manager|        11|           OWN|   73000.0|             0.0|       Not Verified|   445xx|        OH|     1843.0|    20275.0|  63098| Fully Paid|     8000.0|   OH|       8000.0| 36 months|  0.0784|    5|  18 October 2018|     false|Individual|debt_consolidation|  Debt consolidation|                           0|                                  0|                               1|          5.0|                 1|                  0|                      0|                 0|                   0|                  0|             0|              0|              0|         0|\n",
      "|YidDXHhhM1x4MTVce...|   Marketing Manager|        11|      MORTGAGE|   67000.0|             0.0|           Verified|   970xx|        OR|    13791.0|   179291.0| 126558| Fully Paid|    12000.0|   OR|      12000.0| 60 months|  0.1465|   12|    15 April 2015|     false|Individual|debt_consolidation|  Debt consolidation|                           1|                                  0|                               0|         24.0|                 0|                  0|                      1|                 0|                   0|                  0|             0|              0|              0|         0|\n",
      "|YidVXHgwNyNcdFx4Z...|  Operations Analyst|         4|      MORTGAGE|   70000.0|             0.0|    Source Verified|   466xx|        IN|    11234.0|   134805.0| 107816|    Current|    10700.0|   IN|      10700.0| 36 months|  0.1075|    6|      16 May 2016|     false|INDIVIDUAL|       credit_card|Credit card refin...|                           0|                                  1|                               0|         21.0|                 0|                  0|                      1|                 0|                   0|                  0|             0|              1|              0|         0|\n",
      "|Yic/XHhiNlx4ODY9X...|   Merchant Services|         2|      MORTGAGE|   50000.0|         92000.0|    Source Verified|   146xx|        NY|    10861.0|   152052.0| 194484|    Current|    20000.0|   NY|      20000.0| 36 months|     0.0|   11|   19 August 2019|     false| Joint App|debt_consolidation|  Debt consolidation|                           0|                                  1|                               0|          2.0|                 0|                  0|                      1|                 0|                   0|                  0|             1|              0|              0|         0|\n",
      "|YidceGU1elx4MWUsX...|        PARTS SALES |        11|      MORTGAGE|   94000.0|             0.0|    Source Verified|   240xx|        VA|    23974.0|   167816.0| 135983|    Current|    13500.0|   VA|      13500.0| 36 months|  0.1056|    6|     18 June 2018|     false|Individual|  home_improvement|    Home improvement|                           0|                                  1|                               0|          9.0|                 0|                  0|                      1|                 0|                   0|                  0|             0|              0|              0|         0|\n",
      "|YidPXHgwNFx4YTFce...|Applied Behaviora...|         1|      MORTGAGE|   35000.0|             0.0|    Source Verified|   183xx|        PA|     7184.0|    79029.0|  95438|    Current|    10000.0|   PA|      10000.0| 36 months|  0.1407|   11|      18 May 2018|     false|Individual|  home_improvement|    Home improvement|                           0|                                  1|                               0|          8.0|                 0|                  0|                      1|                 0|                   0|                  0|             0|              0|              0|         0|\n",
      "|YidceDgwXHhhNVx4Y...|  Patient access rep|         9|           OWN|   78000.0|             0.0|    Source Verified|   132xx|        NY|    20002.0|   120009.0|  91411|    Current|    10000.0|   NY|      10000.0| 36 months|     0.0|    8|  16 October 2016|     false|INDIVIDUAL|debt_consolidation|  Debt consolidation|                           0|                                  1|                               0|          2.0|                 1|                  0|                      0|                 0|                   0|                  0|             0|              1|              0|         0|\n",
      "|YidceGY5cE1ceGQ3X...|   Sounds installer |         0|      MORTGAGE|   60000.0|             0.0|    Source Verified|   902xx|        CA|    21792.0|   392253.0|  58104|    Current|     7350.0|   CA|       7350.0| 36 months|  0.1279|   15|   16 August 2016|     false|INDIVIDUAL|debt_consolidation|  Debt consolidation|                           0|                                  1|                               0|          0.0|                 0|                  0|                      1|                 0|                   0|                  0|             0|              1|              0|         0|\n",
      "|YidSXHhmZlx4Zjlce...|             Teacher|        11|      MORTGAGE| 60341.551|       126541.99|       Not Verified|   490xx|        MI|    12984.0|   168787.0| 124819|    Current|    12000.0|   MI|      12000.0| 60 months|  0.1075|    8|      16 May 2016|     false|     JOINT|debt_consolidation|Credit card refin...|                           0|                                  0|                               1|         12.0|                 0|                  0|                      1|                 0|                   0|                  0|             0|              0|              0|         1|\n",
      "|YidceGUyXHhkYVx4O...|    Account advocate|         1|          RENT|   27500.0|             0.0|       Not Verified|   840xx|        UT|     4704.0|    75268.0| 133387|    Current|    13000.0|   UT|      13000.0| 36 months|  0.1155|    8|     18 July 2018|     false|Individual|       credit_card|Credit card refin...|                           0|                                  0|                               1|         31.0|                 0|                  1|                      0|                 0|                   0|                  0|             0|              0|              0|         0|\n",
      "|YidceDExXHhjMFx4O...|   Medical Assistant|        11|      MORTGAGE|   85000.0|             0.0|       Not Verified|   341xx|        FL|    23873.0|   453586.0|  83068|    Current|    10000.0|   FL|      10000.0| 36 months|  0.0607|    5|      18 May 2018|     false|Individual|       credit_card|Credit card refin...|                           0|                                  0|                               1|          3.0|                 0|                  0|                      1|                 0|                   0|                  0|             0|              0|              0|         0|\n",
      "|YictXHhjZFx4ZmJce...|             Teacher|        11|      MORTGAGE|   50000.0|             0.0|       Not Verified|   288xx|        NC|     3498.0|    27980.0|   7471|    Current|     2500.0|   NC|       2500.0| 36 months|  0.1308|    6|     19 July 2019|     false|Individual|debt_consolidation|  Debt consolidation|                           0|                                  0|                               1|         10.0|                 0|                  0|                      1|                 0|                   0|                  0|             0|              0|              0|         0|\n",
      "|YidvXHhlM1x4OTJce...|Business Office M...|         4|      MORTGAGE|   90000.0|             0.0|       Not Verified|   370xx|        TN|    23586.0|   353784.0| 155693| Fully Paid|    15000.0|   TN|      15000.0| 60 months|  0.1229|   14|15 September 2015|     false|Individual|debt_consolidation|  Debt consolidation|                           0|                                  0|                               1|         19.0|                 0|                  0|                      1|                 0|                   0|                  0|             0|              0|              0|         0|\n",
      "|YidcdFx4ZjNceGRmX...|     Operations Lead|         3|      MORTGAGE|   51000.0|             0.0|    Source Verified|   142xx|        NY|     9814.0|    88329.0| 112851|    Current|    11200.0|   NY|      11200.0| 60 months|  0.1825|   22|      15 May 2015|     false|Individual|debt_consolidation|  Debt consolidation|                           0|                                  1|                               0|          2.0|                 0|                  0|                      1|                 0|                   0|                  0|             0|              0|              0|         0|\n",
      "|YidceDllXHg5YXAqb...|Assistant Controller|         0|      MORTGAGE|   91000.0|             0.0|       Not Verified|   782xx|        TX|    15787.0|   299951.0|  70503|    Current|     8375.0|   TX|       8375.0| 36 months|     0.0|    2| 19 December 2019|     false|Individual|debt_consolidation|  Debt consolidation|                           0|                                  0|                               1|          1.0|                 0|                  0|                      1|                 0|                   0|                  0|             0|              0|              0|         0|\n",
      "+--------------------+--------------------+----------+--------------+----------+----------------+-------------------+--------+----------+-----------+-----------+-------+-----------+-----------+-----+-------------+----------+--------+-----+-----------------+----------+----------+------------------+--------------------+----------------------------+-----------------------------------+--------------------------------+-------------+------------------+-------------------+-----------------------+------------------+--------------------+-------------------+--------------+---------------+---------------+----------+\n",
      "only showing top 20 rows\n",
      "\n"
     ]
    }
   ],
   "source": [
    "from pyspark.sql.functions import when\n",
    "\n",
    "unique_values = df_new.select(\"type\").distinct().rdd.flatMap(lambda x: x).collect()\n",
    "\n",
    "# Add one-hot encoded columns to the original dataset\n",
    "for value in unique_values:\n",
    "    df_new = df_new.withColumn(f\"type_{value}\", when(df_new[\"type\"] == value, 1).otherwise(0))\n",
    "    track_changes(\"type\",value,f\"type_{value}\")\n",
    "\n",
    "# Show the result\n",
    "df_new.show()\n"
   ]
  },
  {
   "cell_type": "markdown",
   "metadata": {},
   "source": [
    "## encoding purpose"
   ]
  },
  {
   "cell_type": "code",
   "execution_count": 86,
   "metadata": {},
   "outputs": [
    {
     "name": "stdout",
     "output_type": "stream",
     "text": [
      "+--------------------+--------------------+----------+--------------+----------+----------------+-------------------+--------+----------+-----------+-----------+-------+-----------+-----------+-----+-------------+----------+--------+-----+-----------------+----------+----------+------------------+--------------------+----------------------------+-----------------------------------+--------------------------------+-------------+------------------+-------------------+-----------------------+------------------+--------------------+-------------------+--------------+---------------+---------------+----------+---------------+\n",
      "|         customer_id|           emp_title|emp_length|home_ownership|annual_inc|annual_inc_joint|verification_status|zip_code|addr_state|avg_cur_bal|tot_cur_bal|loan_id|loan_status|loan_amount|state|funded_amount|      term|int_rate|grade|       issue_date|pymnt_plan|      type|           purpose|         description|verification_status_Verified|verification_status_Source Verified|verification_status_Not Verified|state_encoded|home_ownership_OWN|home_ownership_RENT|home_ownership_MORTGAGE|home_ownership_ANY|home_ownership_OTHER|home_ownership_NONE|type_Joint App|type_INDIVIDUAL|type_DIRECT_PAY|type_JOINT|purpose_encoded|\n",
      "+--------------------+--------------------+----------+--------------+----------+----------------+-------------------+--------+----------+-----------+-----------+-------+-----------+-----------+-----+-------------+----------+--------+-----+-----------------+----------+----------+------------------+--------------------+----------------------------+-----------------------------------+--------------------------------+-------------+------------------+-------------------+-----------------------+------------------+--------------------+-------------------+--------------+---------------+---------------+----------+---------------+\n",
      "|YidceGE2XHhmYlx4O...|             Teacher|        11|          RENT|   12900.0|             0.0|           Verified|   481xx|        MI|     1275.0|     6375.0|   4185|    Current|     2000.0|   MI|       2000.0| 36 months|  0.1049|   10|    17 April 2017|     false|Individual|       credit_card|Credit card refin...|                           1|                                  0|                               0|         12.0|                 0|                  1|                      0|                 0|                   0|                  0|             0|              0|              0|         0|            1.0|\n",
      "|YidceGY4eH1zXHg4N...|             Teacher|         0|      MORTGAGE|   46000.0|        126000.0|    Source Verified|   988xx|        WA|     5022.0|    55246.0| 170045|    Current|    16300.0|   WA|      16300.0| 60 months|  0.1308|   10| 19 November 2019|     false| Joint App|debt_consolidation|  Debt consolidation|                           0|                                  1|                               0|         15.0|                 0|                  0|                      1|                 0|                   0|                  0|             1|              0|              0|         0|            0.0|\n",
      "|YiJceGFlXHhmZFx4O...|Social Studies Te...|         9|          RENT|   62000.0|             0.0|       Not Verified|   151xx|        PA|     3205.0|    35260.0|  25613|    Current|     5000.0|   PA|       5000.0| 36 months|  0.0649|    5|      16 May 2016|     false|INDIVIDUAL|             other|               Other|                           0|                                  0|                               1|          8.0|                 0|                  1|                      0|                 0|                   0|                  0|             0|              1|              0|         0|            3.0|\n",
      "|YidceDgxXHhhN1dce...|          Instructor|         3|          RENT|   90000.0|             0.0|       Not Verified|   342xx|        FL|     3943.0|    67036.0|  85728|    Current|    10000.0|   FL|      10000.0| 36 months|  0.0756|    4|      19 May 2019|     false|Individual|       credit_card|Credit card refin...|                           0|                                  0|                               1|          3.0|                 0|                  1|                      0|                 0|                   0|                  0|             0|              0|              0|         0|            1.0|\n",
      "|YidyXHhlY0Aoakpce...|Prior Authorizati...|         0|      MORTGAGE|   76000.0|             0.0|    Source Verified|   330xx|        FL|    20336.0|   264371.0| 190035|    Current|    20000.0|   FL|      20000.0| 36 months|  0.0799|    3|     16 July 2016|     false|INDIVIDUAL|debt_consolidation|  Debt consolidation|                           0|                                  1|                               0|          3.0|                 0|                  0|                      1|                 0|                   0|                  0|             0|              1|              0|         0|            0.0|\n",
      "|YidlXHhmZFx4MGM3X...|     Account manager|        11|           OWN|   73000.0|             0.0|       Not Verified|   445xx|        OH|     1843.0|    20275.0|  63098| Fully Paid|     8000.0|   OH|       8000.0| 36 months|  0.0784|    5|  18 October 2018|     false|Individual|debt_consolidation|  Debt consolidation|                           0|                                  0|                               1|          5.0|                 1|                  0|                      0|                 0|                   0|                  0|             0|              0|              0|         0|            0.0|\n",
      "|YidDXHhhM1x4MTVce...|   Marketing Manager|        11|      MORTGAGE|   67000.0|             0.0|           Verified|   970xx|        OR|    13791.0|   179291.0| 126558| Fully Paid|    12000.0|   OR|      12000.0| 60 months|  0.1465|   12|    15 April 2015|     false|Individual|debt_consolidation|  Debt consolidation|                           1|                                  0|                               0|         24.0|                 0|                  0|                      1|                 0|                   0|                  0|             0|              0|              0|         0|            0.0|\n",
      "|YidVXHgwNyNcdFx4Z...|  Operations Analyst|         4|      MORTGAGE|   70000.0|             0.0|    Source Verified|   466xx|        IN|    11234.0|   134805.0| 107816|    Current|    10700.0|   IN|      10700.0| 36 months|  0.1075|    6|      16 May 2016|     false|INDIVIDUAL|       credit_card|Credit card refin...|                           0|                                  1|                               0|         21.0|                 0|                  0|                      1|                 0|                   0|                  0|             0|              1|              0|         0|            1.0|\n",
      "|Yic/XHhiNlx4ODY9X...|   Merchant Services|         2|      MORTGAGE|   50000.0|         92000.0|    Source Verified|   146xx|        NY|    10861.0|   152052.0| 194484|    Current|    20000.0|   NY|      20000.0| 36 months|     0.0|   11|   19 August 2019|     false| Joint App|debt_consolidation|  Debt consolidation|                           0|                                  1|                               0|          2.0|                 0|                  0|                      1|                 0|                   0|                  0|             1|              0|              0|         0|            0.0|\n",
      "|YidceGU1elx4MWUsX...|        PARTS SALES |        11|      MORTGAGE|   94000.0|             0.0|    Source Verified|   240xx|        VA|    23974.0|   167816.0| 135983|    Current|    13500.0|   VA|      13500.0| 36 months|  0.1056|    6|     18 June 2018|     false|Individual|  home_improvement|    Home improvement|                           0|                                  1|                               0|          9.0|                 0|                  0|                      1|                 0|                   0|                  0|             0|              0|              0|         0|            2.0|\n",
      "|YidPXHgwNFx4YTFce...|Applied Behaviora...|         1|      MORTGAGE|   35000.0|             0.0|    Source Verified|   183xx|        PA|     7184.0|    79029.0|  95438|    Current|    10000.0|   PA|      10000.0| 36 months|  0.1407|   11|      18 May 2018|     false|Individual|  home_improvement|    Home improvement|                           0|                                  1|                               0|          8.0|                 0|                  0|                      1|                 0|                   0|                  0|             0|              0|              0|         0|            2.0|\n",
      "|YidceDgwXHhhNVx4Y...|  Patient access rep|         9|           OWN|   78000.0|             0.0|    Source Verified|   132xx|        NY|    20002.0|   120009.0|  91411|    Current|    10000.0|   NY|      10000.0| 36 months|     0.0|    8|  16 October 2016|     false|INDIVIDUAL|debt_consolidation|  Debt consolidation|                           0|                                  1|                               0|          2.0|                 1|                  0|                      0|                 0|                   0|                  0|             0|              1|              0|         0|            0.0|\n",
      "|YidceGY5cE1ceGQ3X...|   Sounds installer |         0|      MORTGAGE|   60000.0|             0.0|    Source Verified|   902xx|        CA|    21792.0|   392253.0|  58104|    Current|     7350.0|   CA|       7350.0| 36 months|  0.1279|   15|   16 August 2016|     false|INDIVIDUAL|debt_consolidation|  Debt consolidation|                           0|                                  1|                               0|          0.0|                 0|                  0|                      1|                 0|                   0|                  0|             0|              1|              0|         0|            0.0|\n",
      "|YidSXHhmZlx4Zjlce...|             Teacher|        11|      MORTGAGE| 60341.551|       126541.99|       Not Verified|   490xx|        MI|    12984.0|   168787.0| 124819|    Current|    12000.0|   MI|      12000.0| 60 months|  0.1075|    8|      16 May 2016|     false|     JOINT|debt_consolidation|Credit card refin...|                           0|                                  0|                               1|         12.0|                 0|                  0|                      1|                 0|                   0|                  0|             0|              0|              0|         1|            0.0|\n",
      "|YidceGUyXHhkYVx4O...|    Account advocate|         1|          RENT|   27500.0|             0.0|       Not Verified|   840xx|        UT|     4704.0|    75268.0| 133387|    Current|    13000.0|   UT|      13000.0| 36 months|  0.1155|    8|     18 July 2018|     false|Individual|       credit_card|Credit card refin...|                           0|                                  0|                               1|         31.0|                 0|                  1|                      0|                 0|                   0|                  0|             0|              0|              0|         0|            1.0|\n",
      "|YidceDExXHhjMFx4O...|   Medical Assistant|        11|      MORTGAGE|   85000.0|             0.0|       Not Verified|   341xx|        FL|    23873.0|   453586.0|  83068|    Current|    10000.0|   FL|      10000.0| 36 months|  0.0607|    5|      18 May 2018|     false|Individual|       credit_card|Credit card refin...|                           0|                                  0|                               1|          3.0|                 0|                  0|                      1|                 0|                   0|                  0|             0|              0|              0|         0|            1.0|\n",
      "|YictXHhjZFx4ZmJce...|             Teacher|        11|      MORTGAGE|   50000.0|             0.0|       Not Verified|   288xx|        NC|     3498.0|    27980.0|   7471|    Current|     2500.0|   NC|       2500.0| 36 months|  0.1308|    6|     19 July 2019|     false|Individual|debt_consolidation|  Debt consolidation|                           0|                                  0|                               1|         10.0|                 0|                  0|                      1|                 0|                   0|                  0|             0|              0|              0|         0|            0.0|\n",
      "|YidvXHhlM1x4OTJce...|Business Office M...|         4|      MORTGAGE|   90000.0|             0.0|       Not Verified|   370xx|        TN|    23586.0|   353784.0| 155693| Fully Paid|    15000.0|   TN|      15000.0| 60 months|  0.1229|   14|15 September 2015|     false|Individual|debt_consolidation|  Debt consolidation|                           0|                                  0|                               1|         19.0|                 0|                  0|                      1|                 0|                   0|                  0|             0|              0|              0|         0|            0.0|\n",
      "|YidcdFx4ZjNceGRmX...|     Operations Lead|         3|      MORTGAGE|   51000.0|             0.0|    Source Verified|   142xx|        NY|     9814.0|    88329.0| 112851|    Current|    11200.0|   NY|      11200.0| 60 months|  0.1825|   22|      15 May 2015|     false|Individual|debt_consolidation|  Debt consolidation|                           0|                                  1|                               0|          2.0|                 0|                  0|                      1|                 0|                   0|                  0|             0|              0|              0|         0|            0.0|\n",
      "|YidceDllXHg5YXAqb...|Assistant Controller|         0|      MORTGAGE|   91000.0|             0.0|       Not Verified|   782xx|        TX|    15787.0|   299951.0|  70503|    Current|     8375.0|   TX|       8375.0| 36 months|     0.0|    2| 19 December 2019|     false|Individual|debt_consolidation|  Debt consolidation|                           0|                                  0|                               1|          1.0|                 0|                  0|                      1|                 0|                   0|                  0|             0|              0|              0|         0|            0.0|\n",
      "+--------------------+--------------------+----------+--------------+----------+----------------+-------------------+--------+----------+-----------+-----------+-------+-----------+-----------+-----+-------------+----------+--------+-----+-----------------+----------+----------+------------------+--------------------+----------------------------+-----------------------------------+--------------------------------+-------------+------------------+-------------------+-----------------------+------------------+--------------------+-------------------+--------------+---------------+---------------+----------+---------------+\n",
      "only showing top 20 rows\n",
      "\n"
     ]
    }
   ],
   "source": [
    "from pyspark.ml.feature import StringIndexer\n",
    "\n",
    "purpose_indexer = StringIndexer(inputCol=\"purpose\", outputCol=\"purpose_encoded\")\n",
    "\n",
    "indexer_model = purpose_indexer.fit(df_new)\n",
    "\n",
    "labels = indexer_model.labels  # List of original values\n",
    "\n",
    "# Track changes for each state label and its encoded value\n",
    "for label, encoded in zip(labels, range(len(labels))):\n",
    "    track_changes(purpose_indexer.getInputCol(), label, float(encoded))\n",
    "\n",
    "df_new = indexer_model.transform(df_new)\n",
    "\n",
    "df_new.show()\n",
    "\n"
   ]
  },
  {
   "cell_type": "code",
   "execution_count": 87,
   "metadata": {},
   "outputs": [
    {
     "name": "stdout",
     "output_type": "stream",
     "text": [
      "+------------------+---------------+\n",
      "|           purpose|purpose_encoded|\n",
      "+------------------+---------------+\n",
      "|       credit_card|            1.0|\n",
      "|           wedding|           12.0|\n",
      "|             other|            3.0|\n",
      "|    small_business|            6.0|\n",
      "|               car|            7.0|\n",
      "|            moving|           10.0|\n",
      "|             house|            8.0|\n",
      "|          vacation|            9.0|\n",
      "|           medical|            5.0|\n",
      "|    major_purchase|            4.0|\n",
      "|  home_improvement|            2.0|\n",
      "|debt_consolidation|            0.0|\n",
      "|  renewable_energy|           11.0|\n",
      "+------------------+---------------+\n",
      "\n"
     ]
    }
   ],
   "source": [
    "df_new.select(\"purpose\", \"purpose_encoded\").distinct().show()\n"
   ]
  },
  {
   "cell_type": "markdown",
   "metadata": {},
   "source": [
    "## encoding  grade to letter grade"
   ]
  },
  {
   "cell_type": "code",
   "execution_count": 88,
   "metadata": {},
   "outputs": [
    {
     "name": "stdout",
     "output_type": "stream",
     "text": [
      "+-----+-------------+\n",
      "|grade|grade_encoded|\n",
      "+-----+-------------+\n",
      "|   21|            E|\n",
      "|   29|            F|\n",
      "|    9|            B|\n",
      "|   35|            G|\n",
      "|    8|            B|\n",
      "|   33|            G|\n",
      "|   17|            D|\n",
      "|   10|            B|\n",
      "|   25|            E|\n",
      "|   16|            D|\n",
      "|   19|            D|\n",
      "|   20|            D|\n",
      "|   22|            E|\n",
      "|   24|            E|\n",
      "|   23|            E|\n",
      "|   12|            C|\n",
      "|   30|            F|\n",
      "|    4|            A|\n",
      "|   13|            C|\n",
      "|   11|            C|\n",
      "+-----+-------------+\n",
      "only showing top 20 rows\n",
      "\n"
     ]
    }
   ],
   "source": [
    "from pyspark.sql.functions import udf\n",
    "from pyspark.sql.types import StringType\n",
    "\n",
    "# Define the function\n",
    "def categorize_grade(numeric_value):\n",
    "    if 1 <= numeric_value <= 5:\n",
    "        return 'A'\n",
    "    elif 6 <= numeric_value <= 10:\n",
    "        return 'B'\n",
    "    elif 11 <= numeric_value <= 15:\n",
    "        return 'C'\n",
    "    elif 16 <= numeric_value <= 20:\n",
    "        return 'D'\n",
    "    elif 21 <= numeric_value <= 25:\n",
    "        return 'E'\n",
    "    elif 26 <= numeric_value <= 30:\n",
    "        return 'F'\n",
    "    elif 31 <= numeric_value <= 35:\n",
    "        return 'G'\n",
    "    else:\n",
    "        return 'Unknown'\n",
    "\n",
    "categorize_grade_udf = udf(categorize_grade, StringType())\n",
    "\n",
    "df_new = df_new.withColumn(\"grade_encoded\", categorize_grade_udf(df_new[\"grade\"]))\n",
    "df_new_distinct = df_new.select(\"grade\", \"grade_encoded\").distinct()\n",
    "\n",
    "for row in df_new_distinct.collect():\n",
    "    grade = row['grade']\n",
    "    grade_encoded = row['grade_encoded']\n",
    "    track_changes(\"grade\", str(grade), grade_encoded)\n",
    "\n",
    "df_new.select(\"grade\",\"grade_encoded\").distinct().show()\n"
   ]
  },
  {
   "cell_type": "markdown",
   "metadata": {},
   "source": [
    "# `Part 4: Feature Engineering`"
   ]
  },
  {
   "cell_type": "code",
   "execution_count": 89,
   "metadata": {},
   "outputs": [],
   "source": [
    "from pyspark.sql import functions as fn\n",
    "from pyspark.sql import Window\n",
    "from pyspark.sql.functions import to_date\n",
    "df_new = df_new.withColumn(\"issue_date1\", fn.to_date(df_new[\"issue_date\"], \"dd MMMM yyyy\"))\n",
    "\n",
    "window1=Window.partitionBy(\"grade\").orderBy(\"issue_date1\")\n",
    "prev_date=fn.lag(\"issue_date1\").over(window1)\n",
    "prev_loan=fn.lag(\"loan_amount\").over(window1)\n",
    "df_new = df_new.withColumn(\n",
    "    \"prev_loan_date\", prev_date,\n",
    ").withColumn(    \"prev_loan_amount\", prev_loan\n",
    ")\n",
    "\n",
    "window2=Window.partitionBy(\"state\", \"grade\").orderBy(\"issue_date1\")\n",
    "prev_date_stateDate=fn.lag(\"issue_date1\").over(window2)\n",
    "prev_amount_stateDate=fn.lag(\"loan_amount\").over(window2)\n",
    "\n",
    "df_new=df_new.withColumn(\"prev_amount_stateDate\",prev_amount_stateDate)\n",
    "df_new=df_new.withColumn(\"prev_date_stateDate\",prev_date_stateDate)"
   ]
  },
  {
   "cell_type": "code",
   "execution_count": 90,
   "metadata": {},
   "outputs": [
    {
     "name": "stdout",
     "output_type": "stream",
     "text": [
      "+-----------+-----------------+-------------+--------------+----------------+\n",
      "|loan_amount|       issue_date|grade_encoded|prev_loan_date|prev_loan_amount|\n",
      "+-----------+-----------------+-------------+--------------+----------------+\n",
      "|     9450.0|   12 August 2012|            B|          NULL|            NULL|\n",
      "|    10000.0|12 September 2012|            B|    2012-08-12|          9450.0|\n",
      "|     6000.0|12 September 2012|            B|    2012-09-12|         10000.0|\n",
      "|     7000.0|12 September 2012|            B|    2012-09-12|          6000.0|\n",
      "|    10625.0|12 September 2012|            B|    2012-09-12|          7000.0|\n",
      "|    28000.0|  12 October 2012|            B|    2012-09-12|         10625.0|\n",
      "|    11200.0|  12 October 2012|            B|    2012-10-12|         28000.0|\n",
      "|     5650.0|  12 October 2012|            B|    2012-10-12|         11200.0|\n",
      "|     8000.0|  12 October 2012|            B|    2012-10-12|          5650.0|\n",
      "|    14400.0| 12 November 2012|            B|    2012-10-12|          8000.0|\n",
      "|     1800.0| 12 November 2012|            B|    2012-11-12|         14400.0|\n",
      "|    21350.0| 12 November 2012|            B|    2012-11-12|          1800.0|\n",
      "|    14875.0| 12 December 2012|            B|    2012-11-12|         21350.0|\n",
      "|    15000.0| 12 December 2012|            B|    2012-12-12|         14875.0|\n",
      "|     7725.0| 12 December 2012|            B|    2012-12-12|         15000.0|\n",
      "|     2500.0| 12 December 2012|            B|    2012-12-12|          7725.0|\n",
      "|    14000.0|  13 January 2013|            B|    2012-12-12|          2500.0|\n",
      "|    20000.0|  13 January 2013|            B|    2013-01-13|         14000.0|\n",
      "|    15000.0|  13 January 2013|            B|    2013-01-13|         20000.0|\n",
      "|    11700.0| 13 February 2013|            B|    2013-01-13|         15000.0|\n",
      "|    15000.0| 13 February 2013|            B|    2013-02-13|         11700.0|\n",
      "|    18275.0| 13 February 2013|            B|    2013-02-13|         15000.0|\n",
      "|    17500.0| 13 February 2013|            B|    2013-02-13|         18275.0|\n",
      "|     1200.0|    13 March 2013|            B|    2013-02-13|         17500.0|\n",
      "|     7425.0|    13 March 2013|            B|    2013-03-13|          1200.0|\n",
      "|    18000.0|    13 March 2013|            B|    2013-03-13|          7425.0|\n",
      "|    20500.0|    13 March 2013|            B|    2013-03-13|         18000.0|\n",
      "|     8000.0|    13 March 2013|            B|    2013-03-13|         20500.0|\n",
      "|    28000.0|    13 March 2013|            B|    2013-03-13|          8000.0|\n",
      "|    14000.0|    13 March 2013|            B|    2013-03-13|         28000.0|\n",
      "|     8875.0|    13 April 2013|            B|    2013-03-13|         14000.0|\n",
      "|    32000.0|    13 April 2013|            B|    2013-04-13|          8875.0|\n",
      "|     5000.0|    13 April 2013|            B|    2013-04-13|         32000.0|\n",
      "|    11000.0|    13 April 2013|            B|    2013-04-13|          5000.0|\n",
      "|     3000.0|    13 April 2013|            B|    2013-04-13|         11000.0|\n",
      "|    26375.0|    13 April 2013|            B|    2013-04-13|          3000.0|\n",
      "|     7000.0|    13 April 2013|            B|    2013-04-13|         26375.0|\n",
      "|    12000.0|    13 April 2013|            B|    2013-04-13|          7000.0|\n",
      "|    15000.0|    13 April 2013|            B|    2013-04-13|         12000.0|\n",
      "|    24000.0|    13 April 2013|            B|    2013-04-13|         15000.0|\n",
      "+-----------+-----------------+-------------+--------------+----------------+\n",
      "only showing top 40 rows\n",
      "\n"
     ]
    }
   ],
   "source": [
    "df_new.select(\"loan_amount\",\"issue_date\",\"grade_encoded\",\"prev_loan_date\",\"prev_loan_amount\").filter((fn.col(\"grade_encoded\") == \"B\")).show(40)"
   ]
  },
  {
   "cell_type": "code",
   "execution_count": 91,
   "metadata": {},
   "outputs": [
    {
     "name": "stdout",
     "output_type": "stream",
     "text": [
      "+-----------+-----------------+-------------+-----+---------------------+-------------------+\n",
      "|loan_amount|       issue_date|grade_encoded|state|prev_amount_stateDate|prev_date_stateDate|\n",
      "+-----------+-----------------+-------------+-----+---------------------+-------------------+\n",
      "|    10000.0|    16 March 2016|            A|   AK|                 NULL|               NULL|\n",
      "|    14500.0|     18 June 2018|            A|   AK|              10000.0|         2016-03-16|\n",
      "|    30000.0| 19 February 2019|            A|   AK|              14500.0|         2018-06-18|\n",
      "|    21000.0|   19 August 2019|            A|   AK|              30000.0|         2019-02-19|\n",
      "|    24000.0| 19 December 2019|            A|   AK|              21000.0|         2019-08-19|\n",
      "|     2000.0|  17 October 2017|            A|   AK|                 NULL|               NULL|\n",
      "|    10000.0| 17 November 2017|            A|   AK|               2000.0|         2017-10-17|\n",
      "|    10000.0|18 September 2018|            A|   AK|              10000.0|         2017-11-17|\n",
      "|     8000.0|   15 August 2015|            A|   AK|                 NULL|               NULL|\n",
      "|    21000.0| 12 December 2012|            A|   AK|                 NULL|               NULL|\n",
      "|    30000.0|     18 June 2018|            A|   AK|              21000.0|         2012-12-12|\n",
      "|    26000.0| 19 February 2019|            A|   AK|              30000.0|         2018-06-18|\n",
      "|    18400.0| 19 November 2019|            A|   AK|              26000.0|         2019-02-19|\n",
      "|     3000.0|    16 March 2016|            A|   AK|                 NULL|               NULL|\n",
      "|    10000.0|   18 August 2018|            A|   AK|               3000.0|         2016-03-16|\n",
      "|     3000.0|    17 March 2017|            B|   AK|                 NULL|               NULL|\n",
      "|    19200.0|    18 March 2018|            B|   AK|               3000.0|         2017-03-17|\n",
      "|    25000.0| 18 December 2018|            B|   AK|              19200.0|         2018-03-18|\n",
      "|     4500.0|  19 January 2019|            B|   AK|              25000.0|         2018-12-18|\n",
      "|     4200.0| 19 December 2019|            B|   AK|               4500.0|         2019-01-19|\n",
      "+-----------+-----------------+-------------+-----+---------------------+-------------------+\n",
      "only showing top 20 rows\n",
      "\n"
     ]
    }
   ],
   "source": [
    "df_new.select(\"loan_amount\",\"issue_date\",\"grade_encoded\",\"state\",\"prev_amount_stateDate\",\"prev_date_stateDate\").show(20)"
   ]
  },
  {
   "cell_type": "markdown",
   "metadata": {},
   "source": [
    "# `Part 5: Analysis SQL vs Spark`"
   ]
  },
  {
   "cell_type": "markdown",
   "metadata": {},
   "source": [
    "Identify the average loan amount and interest rate for loans marked as\n",
    "\"Default\" in the Loan Status, grouped by Emp Length and annual income ranges."
   ]
  },
  {
   "cell_type": "code",
   "execution_count": 92,
   "metadata": {},
   "outputs": [
    {
     "name": "stdout",
     "output_type": "stream",
     "text": [
      "Quantiles: Q1=46000.0, Median=65000.0, Q3=93700.0\n"
     ]
    }
   ],
   "source": [
    "from pyspark.sql import functions as F\n",
    "\n",
    "# Calculate quantile value\n",
    "quantiles = df_new.approxQuantile(\"annual_inc\", [0.25, 0.5, 0.75], 0.01)\n",
    "q1, median, q3 = quantiles \n",
    "\n",
    "print(f\"Quantiles: Q1={q1}, Median={median}, Q3={q3}\")\n"
   ]
  },
  {
   "cell_type": "code",
   "execution_count": 93,
   "metadata": {},
   "outputs": [
    {
     "name": "stdout",
     "output_type": "stream",
     "text": [
      "+----------+------------+---------------+-------------------+\n",
      "|emp_length|income_range|avg_loan_amount|  avg_interest_rate|\n",
      "+----------+------------+---------------+-------------------+\n",
      "|         0|         Low|        14087.5|0.19285000000000002|\n",
      "|         2|         Mid|        22075.0|             0.2734|\n",
      "|         1|         Low|         4200.0|             0.1825|\n",
      "+----------+------------+---------------+-------------------+\n",
      "\n"
     ]
    }
   ],
   "source": [
    "df_new.createOrReplaceTempView(\"Loans\")\n",
    "import pyspark.sql.utils\n",
    "from pyspark.errors import AnalysisException\n",
    "\n",
    "\n",
    "# Register the DataFrame as a SQL temporary view\n",
    "\n",
    "# Define SQL query using the calculated quantiles\n",
    "query = f\"\"\"\n",
    "SELECT \n",
    "    emp_length,\n",
    "    CASE\n",
    "        WHEN annual_inc <= {q1} THEN 'Low'\n",
    "        WHEN annual_inc > {q1} AND annual_inc <= {q3} THEN 'Mid'\n",
    "        WHEN annual_inc > {q3} THEN 'High'\n",
    "    END AS income_range,\n",
    "    AVG(loan_amount) AS avg_loan_amount,\n",
    "    AVG(int_rate) AS avg_interest_rate\n",
    "FROM Loans\n",
    "WHERE loan_status = 'Default'\n",
    "GROUP BY emp_length, income_range\n",
    "\"\"\"\n",
    "\n",
    "result=spark.sql(query)\n",
    "result.show()\n"
   ]
  },
  {
   "cell_type": "code",
   "execution_count": 94,
   "metadata": {},
   "outputs": [
    {
     "name": "stdout",
     "output_type": "stream",
     "text": [
      "+----------+------------+---------------+-------------------+\n",
      "|emp_length|income_range|avg_loan_amount|  avg_interest_rate|\n",
      "+----------+------------+---------------+-------------------+\n",
      "|         0|         Low|        14087.5|0.19285000000000002|\n",
      "|         2|         Mid|        22075.0|             0.2734|\n",
      "|         1|         Low|         4200.0|             0.1825|\n",
      "+----------+------------+---------------+-------------------+\n",
      "\n"
     ]
    }
   ],
   "source": [
    "df_binned = df_new.withColumn(\n",
    "    \"income_range\",\n",
    "    F.when(F.col(\"annual_inc\") <= q1, \"Low\")\n",
    "    .when((F.col(\"annual_inc\") > q1) & (F.col(\"annual_inc\") <= q3), \"Mid\")\n",
    "    .otherwise(\"High\")\n",
    ")\n",
    "\n",
    "df_filter1=df_binned.filter((fn.col(\"loan_status\") == \"Default\"))\n",
    "result_df = (\n",
    "    df_filter1.groupBy(\"emp_length\", \"income_range\")\n",
    "    .agg(\n",
    "        F.avg(\"loan_amount\").alias(\"avg_loan_amount\"),\n",
    "        F.avg(\"int_rate\").alias(\"avg_interest_rate\"),\n",
    "    )\n",
    ")\n",
    "result_df.show()"
   ]
  },
  {
   "cell_type": "markdown",
   "metadata": {},
   "source": [
    "Calculate the average difference between Loan Amount and Funded Amount for each\n",
    "loan Grade and sort by the grades with the largest differences."
   ]
  },
  {
   "cell_type": "code",
   "execution_count": 95,
   "metadata": {},
   "outputs": [
    {
     "name": "stdout",
     "output_type": "stream",
     "text": [
      "+-----+--------------+\n",
      "|grade|avg_difference|\n",
      "+-----+--------------+\n",
      "|   29|           0.0|\n",
      "|   26|           0.0|\n",
      "|   19|           0.0|\n",
      "|   22|           0.0|\n",
      "|    7|           0.0|\n",
      "|   34|           0.0|\n",
      "|   32|           0.0|\n",
      "|   31|           0.0|\n",
      "|   25|           0.0|\n",
      "|    6|           0.0|\n",
      "|    9|           0.0|\n",
      "|   27|           0.0|\n",
      "|   17|           0.0|\n",
      "|   28|           0.0|\n",
      "|   33|           0.0|\n",
      "|    5|           0.0|\n",
      "|    1|           0.0|\n",
      "|   10|           0.0|\n",
      "|    3|           0.0|\n",
      "|   12|           0.0|\n",
      "|    8|           0.0|\n",
      "|   11|           0.0|\n",
      "|   35|           0.0|\n",
      "|    2|           0.0|\n",
      "|    4|           0.0|\n",
      "|   13|           0.0|\n",
      "|   18|           0.0|\n",
      "|   14|           0.0|\n",
      "|   21|           0.0|\n",
      "|   15|           0.0|\n",
      "|   30|           0.0|\n",
      "|   23|           0.0|\n",
      "|   20|           0.0|\n",
      "|   16|           0.0|\n",
      "|   24|           0.0|\n",
      "+-----+--------------+\n",
      "\n"
     ]
    }
   ],
   "source": [
    "\n",
    "query = \"\"\"\n",
    "SELECT \n",
    "    grade,\n",
    "    AVG(loan_amount - funded_amount) AS avg_difference\n",
    "FROM Loans\n",
    "GROUP BY grade\n",
    "ORDER BY avg_difference DESC\n",
    "\"\"\"\n",
    "\n",
    "result_df = spark.sql(query)\n",
    "\n",
    "result_df.show(50)\n"
   ]
  },
  {
   "cell_type": "code",
   "execution_count": 96,
   "metadata": {},
   "outputs": [
    {
     "name": "stdout",
     "output_type": "stream",
     "text": [
      "+-----+--------------+\n",
      "|grade|avg_difference|\n",
      "+-----+--------------+\n",
      "|   29|           0.0|\n",
      "|   26|           0.0|\n",
      "|   19|           0.0|\n",
      "|   22|           0.0|\n",
      "|    7|           0.0|\n",
      "|   34|           0.0|\n",
      "|   32|           0.0|\n",
      "|   31|           0.0|\n",
      "|   25|           0.0|\n",
      "|    6|           0.0|\n",
      "|    9|           0.0|\n",
      "|   27|           0.0|\n",
      "|   17|           0.0|\n",
      "|   28|           0.0|\n",
      "|   33|           0.0|\n",
      "|    5|           0.0|\n",
      "|    1|           0.0|\n",
      "|   10|           0.0|\n",
      "|    3|           0.0|\n",
      "|   12|           0.0|\n",
      "+-----+--------------+\n",
      "only showing top 20 rows\n",
      "\n"
     ]
    }
   ],
   "source": [
    "diff= F.col(\"loan_amount\") - F.col(\"funded_amount\")\n",
    "avg=F.avg(\"amount_difference\").alias(\"avg_difference\")\n",
    "avg_diff=F.col(\"avg_difference\").desc()\n",
    "\n",
    "result_df = (\n",
    "    df_new.withColumn(\"amount_difference\",diff).\n",
    "    groupBy(\"grade\")\n",
    "    .agg(avg)\n",
    "    .orderBy(avg_diff)\n",
    ")\n",
    "\n",
    "result_df.show()"
   ]
  },
  {
   "cell_type": "markdown",
   "metadata": {},
   "source": [
    "Compare the total Loan Amount for loans with \"Verified\" and \"Not Verified\"\n",
    "Verification Status across each state"
   ]
  },
  {
   "cell_type": "code",
   "execution_count": 97,
   "metadata": {},
   "outputs": [
    {
     "name": "stdout",
     "output_type": "stream",
     "text": [
      "+----------+-------------------+-----------------+\n",
      "|addr_state|verification_status|total_loan_amount|\n",
      "+----------+-------------------+-----------------+\n",
      "|        AK|       Not Verified|         408575.0|\n",
      "|        AK|           Verified|         286375.0|\n",
      "|        AL|       Not Verified|        1343075.0|\n",
      "|        AL|           Verified|        1322250.0|\n",
      "|        AR|       Not Verified|         963875.0|\n",
      "|        AR|           Verified|         624225.0|\n",
      "|        AZ|       Not Verified|        2926750.0|\n",
      "|        AZ|           Verified|        2910750.0|\n",
      "|        CA|       Not Verified|      1.8705525E7|\n",
      "|        CA|           Verified|      1.5857925E7|\n",
      "|        CO|           Verified|        2398400.0|\n",
      "|        CO|       Not Verified|        2881075.0|\n",
      "|        CT|       Not Verified|        2246700.0|\n",
      "|        CT|           Verified|        1789600.0|\n",
      "|        DC|           Verified|         257625.0|\n",
      "|        DC|       Not Verified|         351475.0|\n",
      "|        DE|           Verified|         418650.0|\n",
      "|        DE|       Not Verified|         370800.0|\n",
      "|        FL|       Not Verified|      1.0108325E7|\n",
      "|        FL|           Verified|        7778650.0|\n",
      "+----------+-------------------+-----------------+\n",
      "only showing top 20 rows\n",
      "\n"
     ]
    }
   ],
   "source": [
    "\n",
    "query = \"\"\"\n",
    "SELECT \n",
    "    addr_state,\n",
    "    verification_status,\n",
    "    SUM(loan_amount) AS total_loan_amount\n",
    "FROM Loans\n",
    "WHERE verification_status IN ('Verified', 'Not Verified')\n",
    "GROUP BY addr_state, verification_status\n",
    "ORDER BY addr_state\n",
    "\"\"\"\n",
    "\n",
    "# Execute the query\n",
    "result_df = spark.sql(query)\n",
    "\n",
    "# Show the result\n",
    "result_df.show()\n"
   ]
  },
  {
   "cell_type": "code",
   "execution_count": 98,
   "metadata": {},
   "outputs": [
    {
     "name": "stdout",
     "output_type": "stream",
     "text": [
      "+----------+-------------------+-----------------+\n",
      "|addr_state|verification_status|total_loan_amount|\n",
      "+----------+-------------------+-----------------+\n",
      "|        AK|       Not Verified|         408575.0|\n",
      "|        AK|           Verified|         286375.0|\n",
      "|        AL|       Not Verified|        1343075.0|\n",
      "|        AL|           Verified|        1322250.0|\n",
      "|        AR|       Not Verified|         963875.0|\n",
      "|        AR|           Verified|         624225.0|\n",
      "|        AZ|       Not Verified|        2926750.0|\n",
      "|        AZ|           Verified|        2910750.0|\n",
      "|        CA|       Not Verified|      1.8705525E7|\n",
      "|        CA|           Verified|      1.5857925E7|\n",
      "|        CO|           Verified|        2398400.0|\n",
      "|        CO|       Not Verified|        2881075.0|\n",
      "|        CT|       Not Verified|        2246700.0|\n",
      "|        CT|           Verified|        1789600.0|\n",
      "|        DC|           Verified|         257625.0|\n",
      "|        DC|       Not Verified|         351475.0|\n",
      "|        DE|           Verified|         418650.0|\n",
      "|        DE|       Not Verified|         370800.0|\n",
      "|        FL|       Not Verified|      1.0108325E7|\n",
      "|        FL|           Verified|        7778650.0|\n",
      "+----------+-------------------+-----------------+\n",
      "only showing top 20 rows\n",
      "\n"
     ]
    }
   ],
   "source": [
    "\n",
    "filtered_df = df_new.filter(F.col(\"verification_status\").isin(\"Verified\", \"Not Verified\"))\n",
    "\n",
    "result_df = (\n",
    "    filtered_df.groupBy(\"addr_state\", \"verification_status\")\n",
    "    .agg(F.sum(\"loan_amount\").alias(\"total_loan_amount\"))\n",
    "    .orderBy(\"addr_state\")\n",
    ")\n",
    "\n",
    "# Show the result\n",
    "result_df.show()\n"
   ]
  },
  {
   "cell_type": "markdown",
   "metadata": {},
   "source": [
    "Calculate the average time gap (in days) between consecutive loans for each\n",
    "grade using the new features you added in the feature engineering phase"
   ]
  },
  {
   "cell_type": "code",
   "execution_count": 99,
   "metadata": {},
   "outputs": [
    {
     "name": "stdout",
     "output_type": "stream",
     "text": [
      "+-------------+------------------+\n",
      "|grade_encoded|          avg_diff|\n",
      "+-------------+------------------+\n",
      "|            F| 25.72705314009662|\n",
      "|            E| 8.644578313253012|\n",
      "|            B|1.7088235294117646|\n",
      "|            D| 3.382756866734486|\n",
      "|            C|1.7757059136920619|\n",
      "|            A|2.2646509257686427|\n",
      "|            G| 83.48113207547169|\n",
      "+-------------+------------------+\n",
      "\n"
     ]
    }
   ],
   "source": [
    "query = \"\"\"\n",
    "SELECT\n",
    "    grade_encoded,\n",
    "    AVG(DATEDIFF(DAY,prev_loan_date,issue_date1 )) AS avg_diff\n",
    "FROM \n",
    "    Loans\n",
    "WHERE \n",
    "    prev_loan_date IS NOT NULL AND issue_date1 IS NOT NULL\n",
    "GROUP BY \n",
    "    grade_encoded\n",
    "\n",
    "\"\"\"\n",
    "result_df = spark.sql(query)\n",
    "result_df.show()\n",
    "\n"
   ]
  },
  {
   "cell_type": "code",
   "execution_count": 100,
   "metadata": {},
   "outputs": [
    {
     "name": "stdout",
     "output_type": "stream",
     "text": [
      "+-------------+------------------+\n",
      "|grade_encoded|          avg_diff|\n",
      "+-------------+------------------+\n",
      "|            A|2.2646509257686427|\n",
      "|            B|1.7088235294117646|\n",
      "|            C|1.7757059136920619|\n",
      "|            D| 3.382756866734486|\n",
      "|            E| 8.644578313253012|\n",
      "|            F| 25.72705314009662|\n",
      "|            G| 83.48113207547169|\n",
      "+-------------+------------------+\n",
      "\n"
     ]
    }
   ],
   "source": [
    "result_df = (\n",
    "    df_new.filter(F.col(\"prev_loan_date\").isNotNull()) \n",
    "    .groupBy(\"grade_encoded\")\n",
    "    .agg(F.avg(F.datediff(F.col(\"issue_date1\"), F.col(\"prev_loan_date\"))).alias(\"avg_diff\"))\n",
    "    .orderBy(\"grade_encoded\")\n",
    ")\n",
    "# Show the result\n",
    "result_df.show()"
   ]
  },
  {
   "cell_type": "code",
   "execution_count": 101,
   "metadata": {},
   "outputs": [
    {
     "name": "stdout",
     "output_type": "stream",
     "text": [
      "+-------------+-----+-------------------+\n",
      "|grade_encoded|state|    loan_difference|\n",
      "+-------------+-----+-------------------+\n",
      "|            A|   TX| -46.00409836065574|\n",
      "|            A|   VT|              475.0|\n",
      "|            A|   DE|-1745.4545454545455|\n",
      "|            A|   LA|         392.578125|\n",
      "|            A|   UT|  511.8421052631579|\n",
      "|            A|   ND| 3466.6666666666665|\n",
      "|            A|   NM|             1917.0|\n",
      "|            A|   WV|              850.0|\n",
      "|            A|   NY|  8.094713656387665|\n",
      "|            A|   IL|-218.14671814671814|\n",
      "|            A|   PA|-43.646408839779006|\n",
      "|            A|   AK|             2640.0|\n",
      "|            A|   MD| -46.25984251968504|\n",
      "|            A|   MS|  2079.310344827586|\n",
      "|            A|   FL| 123.10513447432763|\n",
      "|            A|   OR|   161.231884057971|\n",
      "|            A|   TN|  391.9642857142857|\n",
      "|            A|   NV| 226.62337662337663|\n",
      "|            A|   IN|  308.3333333333333|\n",
      "|            A|   ID|-1291.6666666666667|\n",
      "+-------------+-----+-------------------+\n",
      "only showing top 20 rows\n",
      "\n"
     ]
    }
   ],
   "source": [
    "# Register the DataFrame as a temporary view if it's not a table already\n",
    "\n",
    "# Write the query\n",
    "query = \"\"\"\n",
    "SELECT\n",
    "    grade_encoded,\n",
    "    state,\n",
    "    AVG(loan_amount - prev_amount_stateDate) AS loan_difference\n",
    "FROM \n",
    "    Loans\n",
    "WHERE \n",
    "    prev_amount_stateDate IS NOT NULL\n",
    "GROUP BY \n",
    "    grade_encoded, state\n",
    "ORDER BY grade_encoded\n",
    "\n",
    "\"\"\"\n",
    "\n",
    "# Run the query\n",
    "result_df = spark.sql(query)\n",
    "result_df.show()\n",
    "\n"
   ]
  },
  {
   "cell_type": "code",
   "execution_count": 102,
   "metadata": {},
   "outputs": [
    {
     "name": "stdout",
     "output_type": "stream",
     "text": [
      "+-------------+-----+------------------------+\n",
      "|grade_encoded|state|avg(avg_loan_difference)|\n",
      "+-------------+-----+------------------------+\n",
      "|            A|   TX|      -46.00409836065574|\n",
      "|            A|   VT|                   475.0|\n",
      "|            A|   DE|     -1745.4545454545455|\n",
      "|            A|   LA|              392.578125|\n",
      "|            A|   UT|       511.8421052631579|\n",
      "|            A|   ND|      3466.6666666666665|\n",
      "|            A|   NM|                  1917.0|\n",
      "|            A|   WV|                   850.0|\n",
      "|            A|   NY|       8.094713656387665|\n",
      "|            A|   IL|     -218.14671814671814|\n",
      "|            A|   PA|     -43.646408839779006|\n",
      "|            A|   AK|                  2640.0|\n",
      "|            A|   MD|      -46.25984251968504|\n",
      "|            A|   MS|       2079.310344827586|\n",
      "|            A|   FL|      123.10513447432763|\n",
      "|            A|   OR|        161.231884057971|\n",
      "|            A|   TN|       391.9642857142857|\n",
      "|            A|   NV|      226.62337662337663|\n",
      "|            A|   IN|       308.3333333333333|\n",
      "|            A|   ID|     -1291.6666666666667|\n",
      "+-------------+-----+------------------------+\n",
      "only showing top 20 rows\n",
      "\n"
     ]
    }
   ],
   "source": [
    "avg=F.avg(\"avg_loan_difference\")\n",
    "diff= F.col(\"loan_amount\") - F.col(\"prev_amount_stateDate\")\n",
    "result_df = (\n",
    "    df_new.filter(F.col(\"prev_amount_stateDate\").isNotNull())\n",
    "    .withColumn(\"avg_loan_difference\",diff)\n",
    "    .groupBy(\"grade_encoded\",\"state\")\n",
    "    .agg(avg)\n",
    "    .orderBy(\"grade_encoded\")\n",
    ")\n",
    "# Show the result\n",
    "result_df.show()"
   ]
  },
  {
   "cell_type": "markdown",
   "metadata": {},
   "source": [
    "# `Part 6: Lookup Table & Saving the dataset`"
   ]
  },
  {
   "cell_type": "code",
   "execution_count": 109,
   "metadata": {},
   "outputs": [],
   "source": [
    "lookup_table= lookup_table.coalesce(1)\n"
   ]
  },
  {
   "cell_type": "code",
   "execution_count": 110,
   "metadata": {},
   "outputs": [
    {
     "data": {
      "text/plain": [
       "1"
      ]
     },
     "execution_count": 110,
     "metadata": {},
     "output_type": "execute_result"
    }
   ],
   "source": [
    "lookup_table.rdd.getNumPartitions()"
   ]
  },
  {
   "cell_type": "code",
   "execution_count": 111,
   "metadata": {},
   "outputs": [
    {
     "data": {
      "text/plain": [
       "1"
      ]
     },
     "execution_count": 111,
     "metadata": {},
     "output_type": "execute_result"
    }
   ],
   "source": [
    "df_new= df_new.coalesce(1)\n",
    "df_new.rdd.getNumPartitions()"
   ]
  },
  {
   "cell_type": "code",
   "execution_count": 112,
   "metadata": {},
   "outputs": [],
   "source": [
    "df_new.write.mode(\"overwrite\").parquet(\"fintech_spark_52_23665_clean.parquet\")"
   ]
  },
  {
   "cell_type": "code",
   "execution_count": 113,
   "metadata": {},
   "outputs": [
    {
     "name": "stdout",
     "output_type": "stream",
     "text": [
      "done\n"
     ]
    }
   ],
   "source": [
    "\n",
    "lookup_table.write.mode(\"overwrite\").parquet(\"lookup_spark_52_23665.parquet\")\n",
    "print(\"done\")"
   ]
  },
  {
   "cell_type": "code",
   "execution_count": 115,
   "metadata": {},
   "outputs": [
    {
     "name": "stdout",
     "output_type": "stream",
     "text": [
      "+--------------------+--------------------+----------+--------------+----------+----------------+-------------------+--------+----------+-----------+-----------+-------+-----------+-----------+-----+-------------+----------+--------+-----+-----------------+----------+----------+------------------+--------------------+----------------------------+-----------------------------------+--------------------------------+-------------+------------------+-------------------+-----------------------+------------------+--------------------+-------------------+--------------+---------------+---------------+----------+---------------+-------------+-----------+--------------+----------------+---------------------+-------------------+\n",
      "|         customer_id|           emp_title|emp_length|home_ownership|annual_inc|annual_inc_joint|verification_status|zip_code|addr_state|avg_cur_bal|tot_cur_bal|loan_id|loan_status|loan_amount|state|funded_amount|      term|int_rate|grade|       issue_date|pymnt_plan|      type|           purpose|         description|verification_status_Verified|verification_status_Source Verified|verification_status_Not Verified|state_encoded|home_ownership_OWN|home_ownership_RENT|home_ownership_MORTGAGE|home_ownership_ANY|home_ownership_OTHER|home_ownership_NONE|type_Joint App|type_INDIVIDUAL|type_DIRECT_PAY|type_JOINT|purpose_encoded|grade_encoded|issue_date1|prev_loan_date|prev_loan_amount|prev_amount_stateDate|prev_date_stateDate|\n",
      "+--------------------+--------------------+----------+--------------+----------+----------------+-------------------+--------+----------+-----------+-----------+-------+-----------+-----------+-----+-------------+----------+--------+-----+-----------------+----------+----------+------------------+--------------------+----------------------------+-----------------------------------+--------------------------------+-------------+------------------+-------------------+-----------------------+------------------+--------------------+-------------------+--------------+---------------+---------------+----------+---------------+-------------+-----------+--------------+----------------+---------------------+-------------------+\n",
      "|YidceGI5fVx4Y2MpX...|Store Manager - R...|         4|      MORTGAGE|   62000.0|             0.0|       Not Verified|   995xx|        AK|     8956.0|   107467.0|  10341|Charged Off|     3000.0|   AK|       3000.0| 36 months|  0.1149|    7|    17 March 2017|     false|Individual|  home_improvement|    Home improvement|                           0|                                  0|                               1|         47.0|                 0|                  0|                      1|                 0|                   0|                  0|             0|              0|              0|         0|            2.0|            B| 2017-03-17|    2017-03-17|         24700.0|                 NULL|               NULL|\n",
      "|YidceGRlfVx4OTlce...|           processor|         5|          RENT|   25000.0|         59000.0|       Not Verified|   996xx|        AK|     4404.0|    17614.0| 184766|    Current|    19200.0|   AK|      19200.0| 36 months|  0.0943|    7|    18 March 2018|     false| Joint App|             other|               Other|                           0|                                  0|                               1|         47.0|                 0|                  1|                      0|                 0|                   0|                  0|             1|              0|              0|         0|            3.0|            B| 2018-03-18|    2018-03-18|         15000.0|               3000.0|         2017-03-17|\n",
      "|YidceDEyXHhhY1x4Z...|Product Support T...|         7|          RENT|   91000.0|             0.0|       Not Verified|   995xx|        AK|     4797.0|    71951.0| 226624|    Current|    25000.0|   AK|      25000.0| 60 months|  0.1033|    7| 18 December 2018|     false|Individual|debt_consolidation|  Debt consolidation|                           0|                                  0|                               1|         47.0|                 0|                  1|                      0|                 0|                   0|                  0|             0|              0|              0|         0|            0.0|            B| 2018-12-18|    2018-12-18|         15000.0|              19200.0|         2018-03-18|\n",
      "|YiJQXHhkM1x4ZjZce...|     Project Manager|        11|      MORTGAGE|   62400.0|             0.0|       Not Verified|   996xx|        AK|    11504.0|    80525.0|  22295|    Current|     4500.0|   AK|       4500.0| 36 months|  0.1298|    7|  19 January 2019|     false|Individual|       credit_card|Credit card refin...|                           0|                                  0|                               1|         47.0|                 0|                  0|                      1|                 0|                   0|                  0|             0|              0|              0|         0|            1.0|            B| 2019-01-19|    2019-01-19|         16000.0|              25000.0|         2018-12-18|\n",
      "|YidceGVkQ2RceGU0X...|        Case Manager|         4|          RENT|   56000.0|             0.0|       Not Verified|   995xx|        AK|     1444.0|    31758.0|  20870|    Current|     4200.0|   AK|       4200.0| 36 months|   0.124|    7| 19 December 2019|     false|Individual|       credit_card|Credit card refin...|                           0|                                  0|                               1|         47.0|                 0|                  1|                      0|                 0|                   0|                  0|             0|              0|              0|         0|            1.0|            B| 2019-12-19|    2019-12-19|          8000.0|               4500.0|         2019-01-19|\n",
      "|YidceDEwKl5ceDA0M...|Child Support Spe...|         8|      MORTGAGE|   55000.0|             0.0|    Source Verified|   995xx|        AK|    18678.0|   186780.0|  37519|    Current|     5600.0|   AK|       5600.0| 36 months|  0.1033|    9| 19 February 2019|     false|Individual|  home_improvement|    Home improvement|                           0|                                  1|                               0|         47.0|                 0|                  0|                      1|                 0|                   0|                  0|             0|              0|              0|         0|            2.0|            B| 2019-02-19|    2019-02-19|         24000.0|                 NULL|               NULL|\n",
      "|YicwbVx4ZmFcXC1ce...|                CSA4|         4|          RENT|   54000.0|             0.0|       Not Verified|   995xx|        AK|      960.0|     5761.0|   1718|    Current|     1200.0|   AK|       1200.0| 36 months|  0.2631|   22| 18 November 2018|     false|Individual|             other|               Other|                           0|                                  0|                               1|         47.0|                 0|                  1|                      0|                 0|                   0|                  0|             0|              0|              0|         0|            3.0|            E| 2018-11-18|    2018-11-18|         15000.0|                 NULL|               NULL|\n",
      "|Yidcclx4OWF5XHg5N...|               Owner|         9|          RENT|  160000.0|             0.0|    Source Verified|   996xx|        AK|     2199.0|    13192.0| 246153| Fully Paid|    30000.0|   AK|      30000.0| 60 months|  0.1884|   25|    15 March 2015|     false|Individual|    small_business|            Business|                           0|                                  1|                               0|         47.0|                 0|                  1|                      0|                 0|                   0|                  0|             0|              0|              0|         0|            6.0|            E| 2015-03-15|    2015-03-15|         22525.0|                 NULL|               NULL|\n",
      "|YidceGVjaFx4MTlce...|           Clinician|         2|           OWN|   62000.0|             0.0|           Verified|   996xx|        AK|    14128.0|   155406.0| 233812| Fully Paid|    27275.0|   AK|      27275.0| 36 months|   0.182|   25| 15 December 2015|     false|Individual|debt_consolidation|  Debt consolidation|                           1|                                  0|                               0|         47.0|                 1|                  0|                      0|                 0|                   0|                  0|             0|              0|              0|         0|            0.0|            E| 2015-12-15|    2015-12-15|         30000.0|              30000.0|         2015-03-15|\n",
      "|YidceDljXHhjMnBce...|           Carpenter|        11|      MORTGAGE|   60140.0|        107000.0|    Source Verified|   998xx|        AK|    14492.0|   188400.0| 209749|    Current|    22000.0|   AK|      22000.0| 36 months|  0.2291|   25|  18 January 2018|     false| Joint App|debt_consolidation|  Debt consolidation|                           0|                                  1|                               0|         47.0|                 0|                  0|                      1|                 0|                   0|                  0|             1|              0|              0|         0|            0.0|            E| 2018-01-18|    2018-01-18|          5000.0|              27275.0|         2015-12-15|\n",
      "|YidceDlkXHg5N1x4Z...|     Medical Records|         2|      MORTGAGE|  100000.0|             0.0|    Source Verified|   995xx|        AK|    58699.0|   469593.0| 176090| Fully Paid|    18000.0|   AK|      18000.0| 60 months|  0.2734|   34|    16 April 2016|     false|INDIVIDUAL|debt_consolidation|  Debt consolidation|                           0|                                  1|                               0|         47.0|                 0|                  0|                      1|                 0|                   0|                  0|             0|              1|              0|         0|            0.0|            G| 2016-04-16|    2016-03-16|         22075.0|                 NULL|               NULL|\n",
      "|YidiXHg5Y1x4YzNce...|Daikin America, Inc.|        11|      MORTGAGE|  100000.0|             0.0|           Verified|   356xx|        AL|    22794.0|   296317.0| 197656|Charged Off|    20000.0|   AL|      20000.0| 60 months|  0.1212|    6|  13 January 2013|     false|INDIVIDUAL|debt_consolidation|      creditcardloan|                           1|                                  0|                               0|         27.0|                 0|                  0|                      1|                 0|                   0|                  0|             0|              1|              0|         0|            0.0|            B| 2013-01-13|    2013-01-13|         15000.0|                 NULL|               NULL|\n",
      "|YidyX1x4ODNNXHg5M...|    Regional Manager|        11|      MORTGAGE|   85000.0|             0.0|           Verified|   365xx|        AL|    29578.0|   207044.0|  81932| Fully Paid|    10000.0|   AL|      10000.0| 36 months|  0.1199|    6| 13 November 2013|     false|INDIVIDUAL|debt_consolidation|             Freedom|                           1|                                  0|                               0|         27.0|                 0|                  0|                      1|                 0|                   0|                  0|             0|              1|              0|         0|            0.0|            B| 2013-11-13|    2013-11-13|         10000.0|              20000.0|         2013-01-13|\n",
      "|YidceGEyXHhhNVx4Y...|             teacher|         7|           OWN|   95000.0|             0.0|    Source Verified|   352xx|        AL|    10047.0|   241132.0| 136545|Charged Off|    13600.0|   AL|      13600.0| 36 months|  0.1249|    6|    14 April 2014|     false|INDIVIDUAL|debt_consolidation|  Debt consolidation|                           0|                                  1|                               0|         27.0|                 1|                  0|                      0|                 0|                   0|                  0|             0|              1|              0|         0|            0.0|            B| 2014-04-14|    2014-04-14|         10000.0|              10000.0|         2013-11-13|\n",
      "|YidceGM2Y1x4OWRce...| Application Analyst|         2|          RENT|   55000.0|             0.0|    Source Verified|   368xx|        AL|    25370.0|   279066.0| 184861|Charged Off|    19200.0|   AL|      19200.0| 36 months|  0.1249|    6|   14 August 2014|     false|INDIVIDUAL|       credit_card|Credit card refin...|                           0|                                  1|                               0|         27.0|                 0|                  1|                      0|                 0|                   0|                  0|             0|              1|              0|         0|            1.0|            B| 2014-08-14|    2014-08-14|          4500.0|              13600.0|         2014-04-14|\n",
      "|YidceGYwXHhjMlx4Y...|             manager|        11|      MORTGAGE|   70000.0|             0.0|       Not Verified|   355xx|        AL|    17834.0|   178339.0| 183994|    Current|    19000.0|   AL|      19000.0| 60 months|  0.1144|    6| 14 December 2014|     false|INDIVIDUAL|debt_consolidation|  Debt consolidation|                           0|                                  0|                               1|         27.0|                 0|                  0|                      1|                 0|                   0|                  0|             0|              1|              0|         0|            0.0|            B| 2014-12-14|    2014-12-14|          1400.0|              19200.0|         2014-08-14|\n",
      "|Yid0XHg4ZilceGUyc...|Certified Biller/...|         1|           OWN|   31200.0|             0.0|       Not Verified|   364xx|        AL|     1382.0|    15209.0|  65331| Fully Paid|     8000.0|   AL|       8000.0| 36 months|  0.1099|    6|     15 July 2015|     false|Individual|       credit_card|Credit card refin...|                           0|                                  0|                               1|         27.0|                 1|                  0|                      0|                 0|                   0|                  0|             0|              0|              0|         0|            1.0|            B| 2015-07-15|    2015-07-15|         27600.0|              19000.0|         2014-12-14|\n",
      "|YidceGQ0VlxuXHhhZ...|Chief Operating O...|         3|          RENT|  100000.0|             0.0|       Not Verified|   357xx|        AL|     4641.0|    41773.0|  99581| Fully Paid|    10000.0|   AL|      10000.0| 60 months|  0.0818|    6|  15 October 2015|     false|Individual|debt_consolidation|  Debt consolidation|                           0|                                  0|                               1|         27.0|                 0|                  1|                      0|                 0|                   0|                  0|             0|              0|              0|         0|            0.0|            B| 2015-10-15|    2015-10-15|         20000.0|               8000.0|         2015-07-15|\n",
      "|YidceDEyZmZSXHg5M...|         Electrician|         1|      MORTGAGE|   51000.0|             0.0|           Verified|   365xx|        AL|    18027.0|   198292.0|  42298|Charged Off|     6000.0|   AL|       6000.0| 36 months|  0.1064|    6| 15 December 2015|     false|Individual|debt_consolidation|  Debt consolidation|                           1|                                  0|                               0|         27.0|                 0|                  0|                      1|                 0|                   0|                  0|             0|              0|              0|         0|            0.0|            B| 2015-12-15|    2015-12-15|         10000.0|              10000.0|         2015-10-15|\n",
      "|YidzXHgxNFx4ZDJ4f...|          Supervisor|        11|           OWN|   28000.0|             0.0|           Verified|   350xx|        AL|     1115.0|    13381.0|  90588|    Current|    10000.0|   AL|      10000.0| 36 months|  0.1099|    6|16 September 2016|     false|INDIVIDUAL|debt_consolidation|  Debt consolidation|                           1|                                  0|                               0|         27.0|                 1|                  0|                      0|                 0|                   0|                  0|             0|              1|              0|         0|            0.0|            B| 2016-09-16|    2016-09-16|          1800.0|               6000.0|         2015-12-15|\n",
      "+--------------------+--------------------+----------+--------------+----------+----------------+-------------------+--------+----------+-----------+-----------+-------+-----------+-----------+-----+-------------+----------+--------+-----+-----------------+----------+----------+------------------+--------------------+----------------------------+-----------------------------------+--------------------------------+-------------+------------------+-------------------+-----------------------+------------------+--------------------+-------------------+--------------+---------------+---------------+----------+---------------+-------------+-----------+--------------+----------------+---------------------+-------------------+\n",
      "only showing top 20 rows\n",
      "\n"
     ]
    }
   ],
   "source": [
    "df_new.show()"
   ]
  },
  {
   "cell_type": "code",
   "execution_count": 116,
   "metadata": {},
   "outputs": [
    {
     "name": "stdout",
     "output_type": "stream",
     "text": [
      "+--------------------+---------------+---------------------+\n",
      "|             Feature| Original Value|Imputed/Encoded Value|\n",
      "+--------------------+---------------+---------------------+\n",
      "|          emp_length|        4 years|                    4|\n",
      "|          emp_length|        2 years|                    2|\n",
      "|          emp_length|        8 years|                    8|\n",
      "|          emp_length|        9 years|                    9|\n",
      "|          emp_length|        6 years|                    6|\n",
      "|          emp_length|         1 year|                    1|\n",
      "|          emp_length|        7 years|                    7|\n",
      "|          emp_length|        5 years|                    5|\n",
      "|          emp_length|      10+ years|                   11|\n",
      "|          emp_length|        3 years|                    3|\n",
      "|          emp_length|       < 1 year|                    0|\n",
      "|verification_status_|       Verified| verification_stat...|\n",
      "|verification_status_|Source Verified| verification_stat...|\n",
      "|verification_status_|   Not Verified| verification_stat...|\n",
      "|               state|             CA|                  0.0|\n",
      "|               state|             TX|                  1.0|\n",
      "|               state|             NY|                  2.0|\n",
      "|               state|             FL|                  3.0|\n",
      "|               state|             IL|                  4.0|\n",
      "|               state|             OH|                  5.0|\n",
      "+--------------------+---------------+---------------------+\n",
      "only showing top 20 rows\n",
      "\n"
     ]
    }
   ],
   "source": [
    "lookup_table.show()"
   ]
  },
  {
   "cell_type": "code",
   "execution_count": null,
   "metadata": {},
   "outputs": [],
   "source": [
    "sc.stop()"
   ]
  },
  {
   "cell_type": "code",
   "execution_count": null,
   "metadata": {},
   "outputs": [],
   "source": []
  },
  {
   "cell_type": "code",
   "execution_count": null,
   "metadata": {},
   "outputs": [],
   "source": []
  }
 ],
 "metadata": {
  "kernelspec": {
   "display_name": "Python 3",
   "language": "python",
   "name": "python3"
  },
  "language_info": {
   "codemirror_mode": {
    "name": "ipython",
    "version": 3
   },
   "file_extension": ".py",
   "mimetype": "text/x-python",
   "name": "python",
   "nbconvert_exporter": "python",
   "pygments_lexer": "ipython3",
   "version": "3.11.9"
  }
 },
 "nbformat": 4,
 "nbformat_minor": 4
}
